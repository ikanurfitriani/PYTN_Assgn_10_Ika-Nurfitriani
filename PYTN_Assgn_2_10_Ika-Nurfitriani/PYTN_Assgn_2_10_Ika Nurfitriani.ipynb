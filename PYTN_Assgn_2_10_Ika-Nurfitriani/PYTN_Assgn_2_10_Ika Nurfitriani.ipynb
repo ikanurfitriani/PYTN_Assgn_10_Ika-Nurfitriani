{
 "cells": [
  {
   "cell_type": "markdown",
   "metadata": {},
   "source": [
    "# Assignment 2 - Introduction to Python for Data Science Program\n",
    "#### **Nama: Ika Nurfitriani**\n",
    "#### **Kode Peserta: PYTN-KS10-008**"
   ]
  },
  {
   "cell_type": "markdown",
   "metadata": {},
   "source": [
    "## Short Description of The Assignment\n",
    "This assignment is a project intended as the **second** assignment in a self-study class at PT Hacktivate Teknologi Indonesia. In this project, we will analyze the NYC Property Sales data from September 2016 to September 2017. Students are asked to formulate questions, then answer and drawing conclusions from the overall analysis that has been made. This assignment is made by taking into account all the assessment rubrics that have been set and will be checked by the teacher of each class."
   ]
  },
  {
   "cell_type": "markdown",
   "metadata": {},
   "source": [
    "## Project Overview\n",
    "Dataset NYC Property Sales From Kaggle. This dataset is a record of every building or building unit (apartment, etc) sold in New York City property market over a 12-month period from September 2016 to September 2017.\n",
    "\n",
    "This dataset contains the location, address, type, sale price, and sale date of building units sold. A reference on the trickier fields:\n",
    "1. BOROUGH: A digit code for the borough the property is located in; in order these are Manhattan (1), Bronx (2), Brooklyn (3), Queens (4), and Staten Island (5).\n",
    "2. BLOCK; LOT: The combination of borough, block, and lot forms a unique key for property in New York City. Commonly called a BBL.\n",
    "3. BUILDING CLASS AT PRESENT and BUILDING CLASS AT TIME OF SALE: The type of building at various points in time.\n",
    "\n",
    "Note that because this is a financial transaction dataset, there are some points that need to be kept in mind:\n",
    "- Many sales occur with a nonsensically small dollar amount: $0 most commonly. These sales are actually transfers of deeds between parties: for example, parents transferring ownership to their home to a child after moving out for retirement.\n",
    "- This dataset uses the financial definition of a building/building unit, for tax purposes. In case a single entity owns the building in question, a sale covers the value of the entire building. In case a building is owned piecemeal by its residents (a condominium), a sale refers to a single apartment (or group of apartments) owned by some individual."
   ]
  },
  {
   "cell_type": "markdown",
   "metadata": {},
   "source": [
    "# A. Import Required Libraries\n",
    "***\n",
    "Di tahap ini, saya mengimpor beberapa library yang dibutuhkan."
   ]
  },
  {
   "cell_type": "code",
   "execution_count": 116,
   "metadata": {},
   "outputs": [],
   "source": [
    "import pandas as pd\n",
    "import numpy as np\n",
    "import matplotlib as mpl\n",
    "import matplotlib.pyplot as plt\n",
    "import seaborn as sns\n",
    "import scipy.stats as scistats\n",
    "import statsmodels.api as sm\n",
    "%matplotlib inline\n",
    "\n",
    "import warnings\n",
    "warnings.filterwarnings(\"ignore\")"
   ]
  },
  {
   "cell_type": "markdown",
   "metadata": {},
   "source": [
    "# B. Preparation and Preprocessing Dataset\n",
    "***\n",
    "Di tahap ini data dalam dataset akan melalui berbagai proses untuk memastikan bahwa data siap digunakan untuk dianalisis."
   ]
  },
  {
   "cell_type": "markdown",
   "metadata": {},
   "source": [
    "## 1. Membaca dan melihat beberapa informasi dataset"
   ]
  },
  {
   "cell_type": "markdown",
   "metadata": {},
   "source": [
    "**Mendeteksi macam-macam format non standard missing values**"
   ]
  },
  {
   "cell_type": "code",
   "execution_count": 117,
   "metadata": {},
   "outputs": [],
   "source": [
    "miss_values = ['NA', 'NaN', 'na', 'n/a', 'n-a' \"--\", \"?\"]"
   ]
  },
  {
   "cell_type": "markdown",
   "metadata": {},
   "source": [
    "**Membaca dataset**"
   ]
  },
  {
   "cell_type": "code",
   "execution_count": 118,
   "metadata": {},
   "outputs": [],
   "source": [
    "df_nycsales = pd.read_csv('nyc-rolling-sales.csv', na_values=miss_values)"
   ]
  },
  {
   "cell_type": "markdown",
   "metadata": {},
   "source": [
    "**Melihat 5 data teratas dari dataset**"
   ]
  },
  {
   "cell_type": "code",
   "execution_count": 119,
   "metadata": {},
   "outputs": [
    {
     "data": {
      "text/html": [
       "<div>\n",
       "<style scoped>\n",
       "    .dataframe tbody tr th:only-of-type {\n",
       "        vertical-align: middle;\n",
       "    }\n",
       "\n",
       "    .dataframe tbody tr th {\n",
       "        vertical-align: top;\n",
       "    }\n",
       "\n",
       "    .dataframe thead th {\n",
       "        text-align: right;\n",
       "    }\n",
       "</style>\n",
       "<table border=\"1\" class=\"dataframe\">\n",
       "  <thead>\n",
       "    <tr style=\"text-align: right;\">\n",
       "      <th></th>\n",
       "      <th>Unnamed: 0</th>\n",
       "      <th>BOROUGH</th>\n",
       "      <th>NEIGHBORHOOD</th>\n",
       "      <th>BUILDING CLASS CATEGORY</th>\n",
       "      <th>TAX CLASS AT PRESENT</th>\n",
       "      <th>BLOCK</th>\n",
       "      <th>LOT</th>\n",
       "      <th>EASE-MENT</th>\n",
       "      <th>BUILDING CLASS AT PRESENT</th>\n",
       "      <th>ADDRESS</th>\n",
       "      <th>...</th>\n",
       "      <th>RESIDENTIAL UNITS</th>\n",
       "      <th>COMMERCIAL UNITS</th>\n",
       "      <th>TOTAL UNITS</th>\n",
       "      <th>LAND SQUARE FEET</th>\n",
       "      <th>GROSS SQUARE FEET</th>\n",
       "      <th>YEAR BUILT</th>\n",
       "      <th>TAX CLASS AT TIME OF SALE</th>\n",
       "      <th>BUILDING CLASS AT TIME OF SALE</th>\n",
       "      <th>SALE PRICE</th>\n",
       "      <th>SALE DATE</th>\n",
       "    </tr>\n",
       "  </thead>\n",
       "  <tbody>\n",
       "    <tr>\n",
       "      <th>0</th>\n",
       "      <td>4</td>\n",
       "      <td>1</td>\n",
       "      <td>ALPHABET CITY</td>\n",
       "      <td>07 RENTALS - WALKUP APARTMENTS</td>\n",
       "      <td>2A</td>\n",
       "      <td>392</td>\n",
       "      <td>6</td>\n",
       "      <td></td>\n",
       "      <td>C2</td>\n",
       "      <td>153 AVENUE B</td>\n",
       "      <td>...</td>\n",
       "      <td>5</td>\n",
       "      <td>0</td>\n",
       "      <td>5</td>\n",
       "      <td>1633</td>\n",
       "      <td>6440</td>\n",
       "      <td>1900</td>\n",
       "      <td>2</td>\n",
       "      <td>C2</td>\n",
       "      <td>6625000</td>\n",
       "      <td>2017-07-19 00:00:00</td>\n",
       "    </tr>\n",
       "    <tr>\n",
       "      <th>1</th>\n",
       "      <td>5</td>\n",
       "      <td>1</td>\n",
       "      <td>ALPHABET CITY</td>\n",
       "      <td>07 RENTALS - WALKUP APARTMENTS</td>\n",
       "      <td>2</td>\n",
       "      <td>399</td>\n",
       "      <td>26</td>\n",
       "      <td></td>\n",
       "      <td>C7</td>\n",
       "      <td>234 EAST 4TH   STREET</td>\n",
       "      <td>...</td>\n",
       "      <td>28</td>\n",
       "      <td>3</td>\n",
       "      <td>31</td>\n",
       "      <td>4616</td>\n",
       "      <td>18690</td>\n",
       "      <td>1900</td>\n",
       "      <td>2</td>\n",
       "      <td>C7</td>\n",
       "      <td>-</td>\n",
       "      <td>2016-12-14 00:00:00</td>\n",
       "    </tr>\n",
       "    <tr>\n",
       "      <th>2</th>\n",
       "      <td>6</td>\n",
       "      <td>1</td>\n",
       "      <td>ALPHABET CITY</td>\n",
       "      <td>07 RENTALS - WALKUP APARTMENTS</td>\n",
       "      <td>2</td>\n",
       "      <td>399</td>\n",
       "      <td>39</td>\n",
       "      <td></td>\n",
       "      <td>C7</td>\n",
       "      <td>197 EAST 3RD   STREET</td>\n",
       "      <td>...</td>\n",
       "      <td>16</td>\n",
       "      <td>1</td>\n",
       "      <td>17</td>\n",
       "      <td>2212</td>\n",
       "      <td>7803</td>\n",
       "      <td>1900</td>\n",
       "      <td>2</td>\n",
       "      <td>C7</td>\n",
       "      <td>-</td>\n",
       "      <td>2016-12-09 00:00:00</td>\n",
       "    </tr>\n",
       "    <tr>\n",
       "      <th>3</th>\n",
       "      <td>7</td>\n",
       "      <td>1</td>\n",
       "      <td>ALPHABET CITY</td>\n",
       "      <td>07 RENTALS - WALKUP APARTMENTS</td>\n",
       "      <td>2B</td>\n",
       "      <td>402</td>\n",
       "      <td>21</td>\n",
       "      <td></td>\n",
       "      <td>C4</td>\n",
       "      <td>154 EAST 7TH STREET</td>\n",
       "      <td>...</td>\n",
       "      <td>10</td>\n",
       "      <td>0</td>\n",
       "      <td>10</td>\n",
       "      <td>2272</td>\n",
       "      <td>6794</td>\n",
       "      <td>1913</td>\n",
       "      <td>2</td>\n",
       "      <td>C4</td>\n",
       "      <td>3936272</td>\n",
       "      <td>2016-09-23 00:00:00</td>\n",
       "    </tr>\n",
       "    <tr>\n",
       "      <th>4</th>\n",
       "      <td>8</td>\n",
       "      <td>1</td>\n",
       "      <td>ALPHABET CITY</td>\n",
       "      <td>07 RENTALS - WALKUP APARTMENTS</td>\n",
       "      <td>2A</td>\n",
       "      <td>404</td>\n",
       "      <td>55</td>\n",
       "      <td></td>\n",
       "      <td>C2</td>\n",
       "      <td>301 EAST 10TH   STREET</td>\n",
       "      <td>...</td>\n",
       "      <td>6</td>\n",
       "      <td>0</td>\n",
       "      <td>6</td>\n",
       "      <td>2369</td>\n",
       "      <td>4615</td>\n",
       "      <td>1900</td>\n",
       "      <td>2</td>\n",
       "      <td>C2</td>\n",
       "      <td>8000000</td>\n",
       "      <td>2016-11-17 00:00:00</td>\n",
       "    </tr>\n",
       "  </tbody>\n",
       "</table>\n",
       "<p>5 rows × 22 columns</p>\n",
       "</div>"
      ],
      "text/plain": [
       "   Unnamed: 0  BOROUGH   NEIGHBORHOOD  \\\n",
       "0           4        1  ALPHABET CITY   \n",
       "1           5        1  ALPHABET CITY   \n",
       "2           6        1  ALPHABET CITY   \n",
       "3           7        1  ALPHABET CITY   \n",
       "4           8        1  ALPHABET CITY   \n",
       "\n",
       "                       BUILDING CLASS CATEGORY TAX CLASS AT PRESENT  BLOCK  \\\n",
       "0  07 RENTALS - WALKUP APARTMENTS                                2A    392   \n",
       "1  07 RENTALS - WALKUP APARTMENTS                                 2    399   \n",
       "2  07 RENTALS - WALKUP APARTMENTS                                 2    399   \n",
       "3  07 RENTALS - WALKUP APARTMENTS                                2B    402   \n",
       "4  07 RENTALS - WALKUP APARTMENTS                                2A    404   \n",
       "\n",
       "   LOT EASE-MENT BUILDING CLASS AT PRESENT                 ADDRESS  ...  \\\n",
       "0    6                                  C2            153 AVENUE B  ...   \n",
       "1   26                                  C7   234 EAST 4TH   STREET  ...   \n",
       "2   39                                  C7   197 EAST 3RD   STREET  ...   \n",
       "3   21                                  C4     154 EAST 7TH STREET  ...   \n",
       "4   55                                  C2  301 EAST 10TH   STREET  ...   \n",
       "\n",
       "  RESIDENTIAL UNITS  COMMERCIAL UNITS  TOTAL UNITS  LAND SQUARE FEET  \\\n",
       "0                 5                 0            5              1633   \n",
       "1                28                 3           31              4616   \n",
       "2                16                 1           17              2212   \n",
       "3                10                 0           10              2272   \n",
       "4                 6                 0            6              2369   \n",
       "\n",
       "   GROSS SQUARE FEET YEAR BUILT TAX CLASS AT TIME OF SALE  \\\n",
       "0               6440       1900                         2   \n",
       "1              18690       1900                         2   \n",
       "2               7803       1900                         2   \n",
       "3               6794       1913                         2   \n",
       "4               4615       1900                         2   \n",
       "\n",
       "   BUILDING CLASS AT TIME OF SALE  SALE PRICE            SALE DATE  \n",
       "0                              C2     6625000  2017-07-19 00:00:00  \n",
       "1                              C7         -    2016-12-14 00:00:00  \n",
       "2                              C7         -    2016-12-09 00:00:00  \n",
       "3                              C4     3936272  2016-09-23 00:00:00  \n",
       "4                              C2     8000000  2016-11-17 00:00:00  \n",
       "\n",
       "[5 rows x 22 columns]"
      ]
     },
     "execution_count": 119,
     "metadata": {},
     "output_type": "execute_result"
    }
   ],
   "source": [
    "df_nycsales.head()"
   ]
  },
  {
   "cell_type": "markdown",
   "metadata": {},
   "source": [
    "**Melihat 5 data terakhir dari dataset**"
   ]
  },
  {
   "cell_type": "code",
   "execution_count": 120,
   "metadata": {},
   "outputs": [
    {
     "data": {
      "text/html": [
       "<div>\n",
       "<style scoped>\n",
       "    .dataframe tbody tr th:only-of-type {\n",
       "        vertical-align: middle;\n",
       "    }\n",
       "\n",
       "    .dataframe tbody tr th {\n",
       "        vertical-align: top;\n",
       "    }\n",
       "\n",
       "    .dataframe thead th {\n",
       "        text-align: right;\n",
       "    }\n",
       "</style>\n",
       "<table border=\"1\" class=\"dataframe\">\n",
       "  <thead>\n",
       "    <tr style=\"text-align: right;\">\n",
       "      <th></th>\n",
       "      <th>Unnamed: 0</th>\n",
       "      <th>BOROUGH</th>\n",
       "      <th>NEIGHBORHOOD</th>\n",
       "      <th>BUILDING CLASS CATEGORY</th>\n",
       "      <th>TAX CLASS AT PRESENT</th>\n",
       "      <th>BLOCK</th>\n",
       "      <th>LOT</th>\n",
       "      <th>EASE-MENT</th>\n",
       "      <th>BUILDING CLASS AT PRESENT</th>\n",
       "      <th>ADDRESS</th>\n",
       "      <th>...</th>\n",
       "      <th>RESIDENTIAL UNITS</th>\n",
       "      <th>COMMERCIAL UNITS</th>\n",
       "      <th>TOTAL UNITS</th>\n",
       "      <th>LAND SQUARE FEET</th>\n",
       "      <th>GROSS SQUARE FEET</th>\n",
       "      <th>YEAR BUILT</th>\n",
       "      <th>TAX CLASS AT TIME OF SALE</th>\n",
       "      <th>BUILDING CLASS AT TIME OF SALE</th>\n",
       "      <th>SALE PRICE</th>\n",
       "      <th>SALE DATE</th>\n",
       "    </tr>\n",
       "  </thead>\n",
       "  <tbody>\n",
       "    <tr>\n",
       "      <th>84543</th>\n",
       "      <td>8409</td>\n",
       "      <td>5</td>\n",
       "      <td>WOODROW</td>\n",
       "      <td>02 TWO FAMILY DWELLINGS</td>\n",
       "      <td>1</td>\n",
       "      <td>7349</td>\n",
       "      <td>34</td>\n",
       "      <td></td>\n",
       "      <td>B9</td>\n",
       "      <td>37 QUAIL LANE</td>\n",
       "      <td>...</td>\n",
       "      <td>2</td>\n",
       "      <td>0</td>\n",
       "      <td>2</td>\n",
       "      <td>2400</td>\n",
       "      <td>2575</td>\n",
       "      <td>1998</td>\n",
       "      <td>1</td>\n",
       "      <td>B9</td>\n",
       "      <td>450000</td>\n",
       "      <td>2016-11-28 00:00:00</td>\n",
       "    </tr>\n",
       "    <tr>\n",
       "      <th>84544</th>\n",
       "      <td>8410</td>\n",
       "      <td>5</td>\n",
       "      <td>WOODROW</td>\n",
       "      <td>02 TWO FAMILY DWELLINGS</td>\n",
       "      <td>1</td>\n",
       "      <td>7349</td>\n",
       "      <td>78</td>\n",
       "      <td></td>\n",
       "      <td>B9</td>\n",
       "      <td>32 PHEASANT LANE</td>\n",
       "      <td>...</td>\n",
       "      <td>2</td>\n",
       "      <td>0</td>\n",
       "      <td>2</td>\n",
       "      <td>2498</td>\n",
       "      <td>2377</td>\n",
       "      <td>1998</td>\n",
       "      <td>1</td>\n",
       "      <td>B9</td>\n",
       "      <td>550000</td>\n",
       "      <td>2017-04-21 00:00:00</td>\n",
       "    </tr>\n",
       "    <tr>\n",
       "      <th>84545</th>\n",
       "      <td>8411</td>\n",
       "      <td>5</td>\n",
       "      <td>WOODROW</td>\n",
       "      <td>02 TWO FAMILY DWELLINGS</td>\n",
       "      <td>1</td>\n",
       "      <td>7351</td>\n",
       "      <td>60</td>\n",
       "      <td></td>\n",
       "      <td>B2</td>\n",
       "      <td>49 PITNEY AVENUE</td>\n",
       "      <td>...</td>\n",
       "      <td>2</td>\n",
       "      <td>0</td>\n",
       "      <td>2</td>\n",
       "      <td>4000</td>\n",
       "      <td>1496</td>\n",
       "      <td>1925</td>\n",
       "      <td>1</td>\n",
       "      <td>B2</td>\n",
       "      <td>460000</td>\n",
       "      <td>2017-07-05 00:00:00</td>\n",
       "    </tr>\n",
       "    <tr>\n",
       "      <th>84546</th>\n",
       "      <td>8412</td>\n",
       "      <td>5</td>\n",
       "      <td>WOODROW</td>\n",
       "      <td>22 STORE BUILDINGS</td>\n",
       "      <td>4</td>\n",
       "      <td>7100</td>\n",
       "      <td>28</td>\n",
       "      <td></td>\n",
       "      <td>K6</td>\n",
       "      <td>2730 ARTHUR KILL ROAD</td>\n",
       "      <td>...</td>\n",
       "      <td>0</td>\n",
       "      <td>7</td>\n",
       "      <td>7</td>\n",
       "      <td>208033</td>\n",
       "      <td>64117</td>\n",
       "      <td>2001</td>\n",
       "      <td>4</td>\n",
       "      <td>K6</td>\n",
       "      <td>11693337</td>\n",
       "      <td>2016-12-21 00:00:00</td>\n",
       "    </tr>\n",
       "    <tr>\n",
       "      <th>84547</th>\n",
       "      <td>8413</td>\n",
       "      <td>5</td>\n",
       "      <td>WOODROW</td>\n",
       "      <td>35 INDOOR PUBLIC AND CULTURAL FACILITIES</td>\n",
       "      <td>4</td>\n",
       "      <td>7105</td>\n",
       "      <td>679</td>\n",
       "      <td></td>\n",
       "      <td>P9</td>\n",
       "      <td>155 CLAY PIT ROAD</td>\n",
       "      <td>...</td>\n",
       "      <td>0</td>\n",
       "      <td>1</td>\n",
       "      <td>1</td>\n",
       "      <td>10796</td>\n",
       "      <td>2400</td>\n",
       "      <td>2006</td>\n",
       "      <td>4</td>\n",
       "      <td>P9</td>\n",
       "      <td>69300</td>\n",
       "      <td>2016-10-27 00:00:00</td>\n",
       "    </tr>\n",
       "  </tbody>\n",
       "</table>\n",
       "<p>5 rows × 22 columns</p>\n",
       "</div>"
      ],
      "text/plain": [
       "       Unnamed: 0  BOROUGH NEIGHBORHOOD  \\\n",
       "84543        8409        5      WOODROW   \n",
       "84544        8410        5      WOODROW   \n",
       "84545        8411        5      WOODROW   \n",
       "84546        8412        5      WOODROW   \n",
       "84547        8413        5      WOODROW   \n",
       "\n",
       "                           BUILDING CLASS CATEGORY TAX CLASS AT PRESENT  \\\n",
       "84543  02 TWO FAMILY DWELLINGS                                        1   \n",
       "84544  02 TWO FAMILY DWELLINGS                                        1   \n",
       "84545  02 TWO FAMILY DWELLINGS                                        1   \n",
       "84546  22 STORE BUILDINGS                                             4   \n",
       "84547  35 INDOOR PUBLIC AND CULTURAL FACILITIES                       4   \n",
       "\n",
       "       BLOCK  LOT EASE-MENT BUILDING CLASS AT PRESENT                ADDRESS  \\\n",
       "84543   7349   34                                  B9          37 QUAIL LANE   \n",
       "84544   7349   78                                  B9       32 PHEASANT LANE   \n",
       "84545   7351   60                                  B2       49 PITNEY AVENUE   \n",
       "84546   7100   28                                  K6  2730 ARTHUR KILL ROAD   \n",
       "84547   7105  679                                  P9      155 CLAY PIT ROAD   \n",
       "\n",
       "       ... RESIDENTIAL UNITS  COMMERCIAL UNITS  TOTAL UNITS  LAND SQUARE FEET  \\\n",
       "84543  ...                 2                 0            2              2400   \n",
       "84544  ...                 2                 0            2              2498   \n",
       "84545  ...                 2                 0            2              4000   \n",
       "84546  ...                 0                 7            7            208033   \n",
       "84547  ...                 0                 1            1             10796   \n",
       "\n",
       "       GROSS SQUARE FEET YEAR BUILT TAX CLASS AT TIME OF SALE  \\\n",
       "84543               2575       1998                         1   \n",
       "84544               2377       1998                         1   \n",
       "84545               1496       1925                         1   \n",
       "84546              64117       2001                         4   \n",
       "84547               2400       2006                         4   \n",
       "\n",
       "       BUILDING CLASS AT TIME OF SALE  SALE PRICE            SALE DATE  \n",
       "84543                              B9      450000  2016-11-28 00:00:00  \n",
       "84544                              B9      550000  2017-04-21 00:00:00  \n",
       "84545                              B2      460000  2017-07-05 00:00:00  \n",
       "84546                              K6    11693337  2016-12-21 00:00:00  \n",
       "84547                              P9       69300  2016-10-27 00:00:00  \n",
       "\n",
       "[5 rows x 22 columns]"
      ]
     },
     "execution_count": 120,
     "metadata": {},
     "output_type": "execute_result"
    }
   ],
   "source": [
    "df_nycsales.tail()"
   ]
  },
  {
   "cell_type": "markdown",
   "metadata": {},
   "source": [
    "**Melihat informasi tentang dataset**"
   ]
  },
  {
   "cell_type": "code",
   "execution_count": 121,
   "metadata": {},
   "outputs": [
    {
     "name": "stdout",
     "output_type": "stream",
     "text": [
      "<class 'pandas.core.frame.DataFrame'>\n",
      "RangeIndex: 84548 entries, 0 to 84547\n",
      "Data columns (total 22 columns):\n",
      " #   Column                          Non-Null Count  Dtype \n",
      "---  ------                          --------------  ----- \n",
      " 0   Unnamed: 0                      84548 non-null  int64 \n",
      " 1   BOROUGH                         84548 non-null  int64 \n",
      " 2   NEIGHBORHOOD                    84548 non-null  object\n",
      " 3   BUILDING CLASS CATEGORY         84548 non-null  object\n",
      " 4   TAX CLASS AT PRESENT            84548 non-null  object\n",
      " 5   BLOCK                           84548 non-null  int64 \n",
      " 6   LOT                             84548 non-null  int64 \n",
      " 7   EASE-MENT                       84548 non-null  object\n",
      " 8   BUILDING CLASS AT PRESENT       84548 non-null  object\n",
      " 9   ADDRESS                         84548 non-null  object\n",
      " 10  APARTMENT NUMBER                84548 non-null  object\n",
      " 11  ZIP CODE                        84548 non-null  int64 \n",
      " 12  RESIDENTIAL UNITS               84548 non-null  int64 \n",
      " 13  COMMERCIAL UNITS                84548 non-null  int64 \n",
      " 14  TOTAL UNITS                     84548 non-null  int64 \n",
      " 15  LAND SQUARE FEET                84548 non-null  object\n",
      " 16  GROSS SQUARE FEET               84548 non-null  object\n",
      " 17  YEAR BUILT                      84548 non-null  int64 \n",
      " 18  TAX CLASS AT TIME OF SALE       84548 non-null  int64 \n",
      " 19  BUILDING CLASS AT TIME OF SALE  84548 non-null  object\n",
      " 20  SALE PRICE                      84548 non-null  object\n",
      " 21  SALE DATE                       84548 non-null  object\n",
      "dtypes: int64(10), object(12)\n",
      "memory usage: 14.2+ MB\n"
     ]
    }
   ],
   "source": [
    "df_nycsales.info()"
   ]
  },
  {
   "cell_type": "markdown",
   "metadata": {},
   "source": [
    "**Melihat informasi dimensi dari dataset**"
   ]
  },
  {
   "cell_type": "code",
   "execution_count": 122,
   "metadata": {},
   "outputs": [
    {
     "name": "stdout",
     "output_type": "stream",
     "text": [
      "Dimensi data:\n",
      "84548 baris\n",
      "22 kolom\n"
     ]
    }
   ],
   "source": [
    "rows, columns = df_nycsales.shape\n",
    "print(\"Dimensi data:\")\n",
    "print(rows, \"baris\")\n",
    "print(columns, \"kolom\")"
   ]
  },
  {
   "cell_type": "markdown",
   "metadata": {},
   "source": [
    "**Melihat range index dataset**"
   ]
  },
  {
   "cell_type": "code",
   "execution_count": 123,
   "metadata": {},
   "outputs": [
    {
     "data": {
      "text/plain": [
       "RangeIndex(start=0, stop=84548, step=1)"
      ]
     },
     "execution_count": 123,
     "metadata": {},
     "output_type": "execute_result"
    }
   ],
   "source": [
    "df_nycsales.index"
   ]
  },
  {
   "cell_type": "markdown",
   "metadata": {},
   "source": [
    "**Melihat daftar indeks dataset**"
   ]
  },
  {
   "cell_type": "code",
   "execution_count": 124,
   "metadata": {},
   "outputs": [
    {
     "data": {
      "text/plain": [
       "array([    0,     1,     2, ..., 84545, 84546, 84547], dtype=int64)"
      ]
     },
     "execution_count": 124,
     "metadata": {},
     "output_type": "execute_result"
    }
   ],
   "source": [
    "df_nycsales.index.values"
   ]
  },
  {
   "cell_type": "markdown",
   "metadata": {},
   "source": [
    "**Mengetahui daftar kolom yang ada dalam dataset**"
   ]
  },
  {
   "cell_type": "code",
   "execution_count": 125,
   "metadata": {},
   "outputs": [
    {
     "data": {
      "text/plain": [
       "Index(['Unnamed: 0', 'BOROUGH', 'NEIGHBORHOOD', 'BUILDING CLASS CATEGORY',\n",
       "       'TAX CLASS AT PRESENT', 'BLOCK', 'LOT', 'EASE-MENT',\n",
       "       'BUILDING CLASS AT PRESENT', 'ADDRESS', 'APARTMENT NUMBER', 'ZIP CODE',\n",
       "       'RESIDENTIAL UNITS', 'COMMERCIAL UNITS', 'TOTAL UNITS',\n",
       "       'LAND SQUARE FEET', 'GROSS SQUARE FEET', 'YEAR BUILT',\n",
       "       'TAX CLASS AT TIME OF SALE', 'BUILDING CLASS AT TIME OF SALE',\n",
       "       'SALE PRICE', 'SALE DATE'],\n",
       "      dtype='object')"
      ]
     },
     "execution_count": 125,
     "metadata": {},
     "output_type": "execute_result"
    }
   ],
   "source": [
    "df_nycsales.columns"
   ]
  },
  {
   "cell_type": "markdown",
   "metadata": {},
   "source": [
    "## 2. Mengetahui semua nilai unik dari setiap kolom"
   ]
  },
  {
   "cell_type": "markdown",
   "metadata": {},
   "source": [
    "**Melihat data yang unik**"
   ]
  },
  {
   "cell_type": "code",
   "execution_count": 126,
   "metadata": {},
   "outputs": [
    {
     "data": {
      "text/plain": [
       "Unnamed: 0                        26736\n",
       "BOROUGH                               5\n",
       "NEIGHBORHOOD                        254\n",
       "BUILDING CLASS CATEGORY              47\n",
       "TAX CLASS AT PRESENT                 11\n",
       "BLOCK                             11566\n",
       "LOT                                2627\n",
       "EASE-MENT                             1\n",
       "BUILDING CLASS AT PRESENT           167\n",
       "ADDRESS                           67563\n",
       "APARTMENT NUMBER                   3989\n",
       "ZIP CODE                            186\n",
       "RESIDENTIAL UNITS                   176\n",
       "COMMERCIAL UNITS                     55\n",
       "TOTAL UNITS                         192\n",
       "LAND SQUARE FEET                   6062\n",
       "GROSS SQUARE FEET                  5691\n",
       "YEAR BUILT                          158\n",
       "TAX CLASS AT TIME OF SALE             4\n",
       "BUILDING CLASS AT TIME OF SALE      166\n",
       "SALE PRICE                        10008\n",
       "SALE DATE                           364\n",
       "dtype: int64"
      ]
     },
     "execution_count": 126,
     "metadata": {},
     "output_type": "execute_result"
    }
   ],
   "source": [
    "df_nycsales.nunique()"
   ]
  },
  {
   "cell_type": "markdown",
   "metadata": {},
   "source": [
    "**Melihat banyaknya nilai dari setiap kolom**"
   ]
  },
  {
   "cell_type": "code",
   "execution_count": 127,
   "metadata": {},
   "outputs": [
    {
     "name": "stdout",
     "output_type": "stream",
     "text": [
      "Unnamed: 0 : \n",
      "4        5\n",
      "4699     5\n",
      "4710     5\n",
      "4709     5\n",
      "4708     5\n",
      "        ..\n",
      "24948    1\n",
      "24949    1\n",
      "24950    1\n",
      "24951    1\n",
      "26739    1\n",
      "Name: Unnamed: 0, Length: 26736, dtype: int64\n",
      "============================================================\n",
      "BOROUGH : \n",
      "4    26736\n",
      "3    24047\n",
      "1    18306\n",
      "5     8410\n",
      "2     7049\n",
      "Name: BOROUGH, dtype: int64\n",
      "============================================================\n",
      "NEIGHBORHOOD : \n",
      "FLUSHING-NORTH              3068\n",
      "UPPER EAST SIDE (59-79)     1736\n",
      "UPPER EAST SIDE (79-96)     1590\n",
      "UPPER WEST SIDE (59-79)     1439\n",
      "BEDFORD STUYVESANT          1436\n",
      "                            ... \n",
      "FRESH KILLS                    2\n",
      "BRONX PARK                     1\n",
      "PELHAM BAY                     1\n",
      "EAST RIVER                     1\n",
      "CITY ISLAND-PELHAM STRIP       1\n",
      "Name: NEIGHBORHOOD, Length: 254, dtype: int64\n",
      "============================================================\n",
      "BUILDING CLASS CATEGORY : \n",
      "01 ONE FAMILY DWELLINGS                         18235\n",
      "02 TWO FAMILY DWELLINGS                         15828\n",
      "13 CONDOS - ELEVATOR APARTMENTS                 12989\n",
      "10 COOPS - ELEVATOR APARTMENTS                  12902\n",
      "03 THREE FAMILY DWELLINGS                        4384\n",
      "07 RENTALS - WALKUP APARTMENTS                   3466\n",
      "09 COOPS - WALKUP APARTMENTS                     2767\n",
      "04 TAX CLASS 1 CONDOS                            1656\n",
      "44 CONDO PARKING                                 1441\n",
      "15 CONDOS - 2-10 UNIT RESIDENTIAL                1281\n",
      "05 TAX CLASS 1 VACANT LAND                       1248\n",
      "17 CONDO COOPS                                   1201\n",
      "22 STORE BUILDINGS                                935\n",
      "12 CONDOS - WALKUP APARTMENTS                     926\n",
      "14 RENTALS - 4-10 UNIT                            671\n",
      "29 COMMERCIAL GARAGES                             587\n",
      "43 CONDO OFFICE BUILDINGS                         475\n",
      "31 COMMERCIAL VACANT LAND                         463\n",
      "08 RENTALS - ELEVATOR APARTMENTS                  382\n",
      "47 CONDO NON-BUSINESS STORAGE                     377\n",
      "21 OFFICE BUILDINGS                               350\n",
      "30 WAREHOUSES                                     326\n",
      "45 CONDO HOTELS                                   211\n",
      "27 FACTORIES                                      201\n",
      "06 TAX CLASS 1 - OTHER                            182\n",
      "41 TAX CLASS 4 - OTHER                            158\n",
      "46 CONDO STORE BUILDINGS                          154\n",
      "26 OTHER HOTELS                                   114\n",
      "37 RELIGIOUS FACILITIES                           100\n",
      "16 CONDOS - 2-10 UNIT WITH COMMERCIAL UNIT         96\n",
      "33 EDUCATIONAL FACILITIES                          69\n",
      "32 HOSPITAL AND HEALTH FACILITIES                  59\n",
      "48 CONDO TERRACES/GARDENS/CABANAS                  47\n",
      "23 LOFT BUILDINGS                                  46\n",
      "11A CONDO-RENTALS                                  43\n",
      "35 INDOOR PUBLIC AND CULTURAL FACILITIES           32\n",
      "49 CONDO WAREHOUSES/FACTORY/INDUS                  30\n",
      "28 COMMERCIAL CONDOS                               30\n",
      "38 ASYLUMS AND HOMES                               25\n",
      "36 OUTDOOR RECREATIONAL FACILITIES                 14\n",
      "42 CONDO CULTURAL/MEDICAL/EDUCATIONAL/ETC          13\n",
      "34 THEATRES                                        12\n",
      "25 LUXURY HOTELS                                   12\n",
      "18 TAX CLASS 3 - UNTILITY PROPERTIES                4\n",
      "40 SELECTED GOVERNMENTAL FACILITIES                 2\n",
      "11 SPECIAL CONDO BILLING LOTS                       2\n",
      "39 TRANSPORTATION FACILITIES                        2\n",
      "Name: BUILDING CLASS CATEGORY, dtype: int64\n",
      "============================================================\n",
      "TAX CLASS AT PRESENT : \n",
      "1     38633\n",
      "2     30919\n",
      "4      6140\n",
      "2A     2521\n",
      "2C     1915\n",
      "1A     1444\n",
      "1B     1234\n",
      "2B      814\n",
      "        738\n",
      "1C      186\n",
      "3         4\n",
      "Name: TAX CLASS AT PRESENT, dtype: int64\n",
      "============================================================\n",
      "BLOCK : \n",
      "5066     404\n",
      "16       255\n",
      "2135     211\n",
      "4978     187\n",
      "1171     181\n",
      "        ... \n",
      "9410       1\n",
      "9273       1\n",
      "9528       1\n",
      "9556       1\n",
      "13959      1\n",
      "Name: BLOCK, Length: 11566, dtype: int64\n",
      "============================================================\n",
      "LOT : \n",
      "1       4125\n",
      "20       983\n",
      "12       972\n",
      "40       935\n",
      "23       911\n",
      "        ... \n",
      "2878       1\n",
      "2923       1\n",
      "3191       1\n",
      "3292       1\n",
      "679        1\n",
      "Name: LOT, Length: 2627, dtype: int64\n",
      "============================================================\n",
      "EASE-MENT : \n",
      "     84548\n",
      "Name: EASE-MENT, dtype: int64\n",
      "============================================================\n",
      "BUILDING CLASS AT PRESENT : \n",
      "D4    12663\n",
      "R4    12482\n",
      "A1     6753\n",
      "A5     5683\n",
      "B2     4923\n",
      "      ...  \n",
      "R7        1\n",
      "P7        1\n",
      "HH        1\n",
      "M2        1\n",
      "Z7        1\n",
      "Name: BUILDING CLASS AT PRESENT, Length: 167, dtype: int64\n",
      "============================================================\n",
      "ADDRESS : \n",
      "131-05 40TH   ROAD        210\n",
      "429 KENT AVENUE           158\n",
      "169 WEST 95TH   STREET    153\n",
      "131-03 40TH   ROAD        147\n",
      "265 STATE STREET          127\n",
      "                         ... \n",
      "9405 SEAVIEW AVENUE         1\n",
      "9410 AVENUE N               1\n",
      "9911 SEAVIEW AVENUE         1\n",
      "1471 EAST 99TH STREET       1\n",
      "155 CLAY PIT ROAD           1\n",
      "Name: ADDRESS, Length: 67563, dtype: int64\n",
      "============================================================\n",
      "APARTMENT NUMBER : \n",
      "        65496\n",
      "4         298\n",
      "3A        295\n",
      "2         275\n",
      "3B        275\n",
      "        ...  \n",
      "ST50        1\n",
      "ST54        1\n",
      "SU13        1\n",
      "SU21        1\n",
      "363         1\n",
      "Name: APARTMENT NUMBER, Length: 3989, dtype: int64\n",
      "============================================================\n",
      "ZIP CODE : \n",
      "10314    1687\n",
      "11354    1384\n",
      "11201    1324\n",
      "11235    1312\n",
      "11234    1165\n",
      "         ... \n",
      "10105       5\n",
      "11430       1\n",
      "10281       1\n",
      "10803       1\n",
      "10167       1\n",
      "Name: ZIP CODE, Length: 186, dtype: int64\n",
      "============================================================\n",
      "RESIDENTIAL UNITS : \n",
      "1      34722\n",
      "0      24783\n",
      "2      16049\n",
      "3       4608\n",
      "4       1346\n",
      "       ...  \n",
      "179        1\n",
      "75         1\n",
      "193        1\n",
      "153        1\n",
      "128        1\n",
      "Name: RESIDENTIAL UNITS, Length: 176, dtype: int64\n",
      "============================================================\n",
      "COMMERCIAL UNITS : \n",
      "0       79429\n",
      "1        3558\n",
      "2         817\n",
      "3         259\n",
      "4         137\n",
      "5          74\n",
      "6          70\n",
      "7          31\n",
      "8          26\n",
      "9          20\n",
      "10         17\n",
      "12         12\n",
      "15         11\n",
      "11         10\n",
      "17          6\n",
      "14          6\n",
      "254         4\n",
      "20          4\n",
      "35          4\n",
      "13          4\n",
      "19          3\n",
      "42          3\n",
      "18          3\n",
      "22          3\n",
      "126         2\n",
      "25          2\n",
      "26          2\n",
      "436         2\n",
      "16          2\n",
      "422         2\n",
      "34          1\n",
      "172         1\n",
      "2261        1\n",
      "51          1\n",
      "184         1\n",
      "147         1\n",
      "28          1\n",
      "21          1\n",
      "32          1\n",
      "55          1\n",
      "56          1\n",
      "73          1\n",
      "31          1\n",
      "38          1\n",
      "59          1\n",
      "91          1\n",
      "30          1\n",
      "49          1\n",
      "24          1\n",
      "67          1\n",
      "318         1\n",
      "52          1\n",
      "23          1\n",
      "27          1\n",
      "62          1\n",
      "Name: COMMERCIAL UNITS, dtype: int64\n",
      "============================================================\n",
      "TOTAL UNITS : \n",
      "1      38356\n",
      "0      19762\n",
      "2      15914\n",
      "3       5412\n",
      "4       1498\n",
      "       ...  \n",
      "81         1\n",
      "179        1\n",
      "257        1\n",
      "82         1\n",
      "128        1\n",
      "Name: TOTAL UNITS, Length: 192, dtype: int64\n",
      "============================================================\n",
      "LAND SQUARE FEET : \n",
      " -       26252\n",
      "0        10326\n",
      "2000      3919\n",
      "2500      3470\n",
      "4000      3044\n",
      "         ...  \n",
      "5886         1\n",
      "76712        1\n",
      "6777         1\n",
      "10833        1\n",
      "10796        1\n",
      "Name: LAND SQUARE FEET, Length: 6062, dtype: int64\n",
      "============================================================\n",
      "GROSS SQUARE FEET : \n",
      " -       27612\n",
      "0        11417\n",
      "2400       386\n",
      "1800       361\n",
      "2000       359\n",
      "         ...  \n",
      "13740        1\n",
      "12256        1\n",
      "3823         1\n",
      "7768         1\n",
      "64117        1\n",
      "Name: GROSS SQUARE FEET, Length: 5691, dtype: int64\n",
      "============================================================\n",
      "YEAR BUILT : \n",
      "0       6970\n",
      "1920    6045\n",
      "1930    5043\n",
      "1925    4312\n",
      "1910    3585\n",
      "        ... \n",
      "1888       1\n",
      "1849       1\n",
      "1855       1\n",
      "1111       1\n",
      "1680       1\n",
      "Name: YEAR BUILT, Length: 158, dtype: int64\n",
      "============================================================\n",
      "TAX CLASS AT TIME OF SALE : \n",
      "1    41533\n",
      "2    36726\n",
      "4     6285\n",
      "3        4\n",
      "Name: TAX CLASS AT TIME OF SALE, dtype: int64\n",
      "============================================================\n",
      "BUILDING CLASS AT TIME OF SALE : \n",
      "R4    12989\n",
      "D4    12666\n",
      "A1     6751\n",
      "A5     5671\n",
      "B2     4918\n",
      "      ...  \n",
      "I3        1\n",
      "R7        1\n",
      "Q8        1\n",
      "Y1        1\n",
      "Z7        1\n",
      "Name: BUILDING CLASS AT TIME OF SALE, Length: 166, dtype: int64\n",
      "============================================================\n",
      "SALE PRICE : \n",
      " -         14561\n",
      "0          10228\n",
      "10           766\n",
      "450000       427\n",
      "550000       416\n",
      "           ...  \n",
      "191100         1\n",
      "1542499        1\n",
      "782990         1\n",
      "2784765        1\n",
      "69300          1\n",
      "Name: SALE PRICE, Length: 10008, dtype: int64\n",
      "============================================================\n",
      "SALE DATE : \n",
      "2017-06-29 00:00:00    544\n",
      "2017-06-15 00:00:00    530\n",
      "2016-12-22 00:00:00    527\n",
      "2017-05-25 00:00:00    511\n",
      "2016-10-06 00:00:00    508\n",
      "                      ... \n",
      "2017-01-08 00:00:00      2\n",
      "2017-07-09 00:00:00      2\n",
      "2016-11-27 00:00:00      2\n",
      "2017-08-13 00:00:00      1\n",
      "2017-06-04 00:00:00      1\n",
      "Name: SALE DATE, Length: 364, dtype: int64\n",
      "============================================================\n"
     ]
    }
   ],
   "source": [
    "for col in df_nycsales.columns:\n",
    "    print(col, ': ')\n",
    "    print(df_nycsales[col].value_counts())\n",
    "    print('='*60)"
   ]
  },
  {
   "cell_type": "markdown",
   "metadata": {},
   "source": [
    "### Kesimpulan Analisis:\n",
    "Dari analisis di atas, beberapa kolom masih terdapat unstandard missing values yang tidak berhasil diidentifikasi oleh Pandas sebagai missing values. Berikut ini adalah rangkumannya:\n",
    "1. Kolom \"Unnamed: 0\" dan kolom 'EASE-MENT' tidak diperlukan untuk analisis berikutnya, sehingga akan dibuang.\n",
    "2. Kolom 'TAX CLASS AT PRESENT' mengandung nilai (' ') yang diidentifikasi sebagai missing values.\n",
    "3. Kolom 'BUILDING CLASS AT PRESENT', 'APARTMENT NUMBER' mengandung nilai (' ') yang diidentifikasi sebagai missing values.\n",
    "4. Kolom 'ZIP CODE', 'YEAR BUILT', 'TOTAL UNITS' mengandung nilai (0) yang diidentifikasi sebagai missing values.\n",
    "5. Kolom 'SALE PRICE' mengandung nilai (' - ') yang diidentifikasi sebagai missing values, selanjutnya nilai ini akan diganti dengan 0 dan dianggap tidak ada transaksi."
   ]
  },
  {
   "cell_type": "markdown",
   "metadata": {},
   "source": [
    "## 3. Data Cleaning\n",
    "### Baca ulang dataset dengan menambahkan unstandard missing values"
   ]
  },
  {
   "cell_type": "markdown",
   "metadata": {},
   "source": [
    "**Menambahkan beberapa format non standard missing values**"
   ]
  },
  {
   "cell_type": "code",
   "execution_count": 128,
   "metadata": {},
   "outputs": [],
   "source": [
    "miss_values = ['NA', 'NaN', 'na', 'n/a', 'n-a' \"--\", \"?\", ' ',' -  ']"
   ]
  },
  {
   "cell_type": "markdown",
   "metadata": {},
   "source": [
    "**Membaca dataset**"
   ]
  },
  {
   "cell_type": "code",
   "execution_count": 129,
   "metadata": {},
   "outputs": [],
   "source": [
    "df_nycsales = pd.read_csv('nyc-rolling-sales.csv', na_values=miss_values)"
   ]
  },
  {
   "cell_type": "markdown",
   "metadata": {},
   "source": [
    "**Mengubah nilai 0 di kolom YEAR BUILT, ZIP CODE, TOTAL UNIT dengan np.nan**"
   ]
  },
  {
   "cell_type": "code",
   "execution_count": 130,
   "metadata": {},
   "outputs": [],
   "source": [
    "df_nycsales['YEAR BUILT']=df_nycsales['YEAR BUILT'].replace({0:np.nan})\n",
    "df_nycsales['ZIP CODE']=df_nycsales['ZIP CODE'].replace({0:np.nan})\n",
    "df_nycsales['TOTAL UNITS']=df_nycsales['TOTAL UNITS'].replace({0:np.nan})"
   ]
  },
  {
   "cell_type": "markdown",
   "metadata": {},
   "source": [
    "### Mengecek ulang adanya missing values (unstandard missing values)"
   ]
  },
  {
   "cell_type": "markdown",
   "metadata": {},
   "source": [
    "**Mengecek jumlah missing values pada setiap kolom**"
   ]
  },
  {
   "cell_type": "code",
   "execution_count": 131,
   "metadata": {},
   "outputs": [
    {
     "data": {
      "text/plain": [
       "Unnamed: 0                            0\n",
       "BOROUGH                               0\n",
       "NEIGHBORHOOD                          0\n",
       "BUILDING CLASS CATEGORY               0\n",
       "TAX CLASS AT PRESENT                738\n",
       "BLOCK                                 0\n",
       "LOT                                   0\n",
       "EASE-MENT                         84548\n",
       "BUILDING CLASS AT PRESENT           738\n",
       "ADDRESS                               0\n",
       "APARTMENT NUMBER                  65496\n",
       "ZIP CODE                            982\n",
       "RESIDENTIAL UNITS                     0\n",
       "COMMERCIAL UNITS                      0\n",
       "TOTAL UNITS                       19762\n",
       "LAND SQUARE FEET                  26252\n",
       "GROSS SQUARE FEET                 27612\n",
       "YEAR BUILT                         6970\n",
       "TAX CLASS AT TIME OF SALE             0\n",
       "BUILDING CLASS AT TIME OF SALE        0\n",
       "SALE PRICE                        14561\n",
       "SALE DATE                             0\n",
       "dtype: int64"
      ]
     },
     "execution_count": 131,
     "metadata": {},
     "output_type": "execute_result"
    }
   ],
   "source": [
    "df_nycsales.isnull().sum()"
   ]
  },
  {
   "cell_type": "markdown",
   "metadata": {},
   "source": [
    "**Mengecek persentase dan jumlah missing value**"
   ]
  },
  {
   "cell_type": "code",
   "execution_count": 132,
   "metadata": {},
   "outputs": [
    {
     "name": "stdout",
     "output_type": "stream",
     "text": [
      "                 TAX CLASS AT PRESENT  EASE-MENT  BUILDING CLASS AT PRESENT  \\\n",
      "percent missing              0.872877      100.0                   0.872877   \n",
      "num of missing                    NaN    84548.0                        NaN   \n",
      "\n",
      "                 APARTMENT NUMBER  ZIP CODE   TOTAL UNITS  LAND SQUARE FEET  \\\n",
      "percent missing         77.466055   1.16147     23.373705         31.049818   \n",
      "num of missing       65496.000000       NaN  19762.000000      26252.000000   \n",
      "\n",
      "                 GROSS SQUARE FEET   YEAR BUILT   SALE PRICE  \n",
      "percent missing          32.658372     8.243838     17.22217  \n",
      "num of missing        27612.000000  6970.000000  14561.00000  \n"
     ]
    }
   ],
   "source": [
    "missing_value = df_nycsales.isnull().sum()/len(df_nycsales)*100\n",
    "print(pd.DataFrame([missing_value[missing_value>0], \n",
    "    pd.Series(df_nycsales.isnull().sum()[df_nycsales.isnull().sum()>1000])],\n",
    "    index=['percent missing', 'num of missing']))"
   ]
  },
  {
   "cell_type": "markdown",
   "metadata": {},
   "source": [
    "### Menghapus kolom-kolom yang tidak diperlukan"
   ]
  },
  {
   "cell_type": "markdown",
   "metadata": {},
   "source": [
    "**Menghapus kolom-kolom yang tidak dibutuhkan**"
   ]
  },
  {
   "cell_type": "code",
   "execution_count": 133,
   "metadata": {},
   "outputs": [],
   "source": [
    "df_nycsales.drop(['Unnamed: 0', 'EASE-MENT', 'APARTMENT NUMBER'], axis=1, inplace=True)"
   ]
  },
  {
   "cell_type": "markdown",
   "metadata": {},
   "source": [
    "**Tampilkan 5 data teratas**"
   ]
  },
  {
   "cell_type": "code",
   "execution_count": 134,
   "metadata": {},
   "outputs": [
    {
     "data": {
      "text/html": [
       "<div>\n",
       "<style scoped>\n",
       "    .dataframe tbody tr th:only-of-type {\n",
       "        vertical-align: middle;\n",
       "    }\n",
       "\n",
       "    .dataframe tbody tr th {\n",
       "        vertical-align: top;\n",
       "    }\n",
       "\n",
       "    .dataframe thead th {\n",
       "        text-align: right;\n",
       "    }\n",
       "</style>\n",
       "<table border=\"1\" class=\"dataframe\">\n",
       "  <thead>\n",
       "    <tr style=\"text-align: right;\">\n",
       "      <th></th>\n",
       "      <th>BOROUGH</th>\n",
       "      <th>NEIGHBORHOOD</th>\n",
       "      <th>BUILDING CLASS CATEGORY</th>\n",
       "      <th>TAX CLASS AT PRESENT</th>\n",
       "      <th>BLOCK</th>\n",
       "      <th>LOT</th>\n",
       "      <th>BUILDING CLASS AT PRESENT</th>\n",
       "      <th>ADDRESS</th>\n",
       "      <th>ZIP CODE</th>\n",
       "      <th>RESIDENTIAL UNITS</th>\n",
       "      <th>COMMERCIAL UNITS</th>\n",
       "      <th>TOTAL UNITS</th>\n",
       "      <th>LAND SQUARE FEET</th>\n",
       "      <th>GROSS SQUARE FEET</th>\n",
       "      <th>YEAR BUILT</th>\n",
       "      <th>TAX CLASS AT TIME OF SALE</th>\n",
       "      <th>BUILDING CLASS AT TIME OF SALE</th>\n",
       "      <th>SALE PRICE</th>\n",
       "      <th>SALE DATE</th>\n",
       "    </tr>\n",
       "  </thead>\n",
       "  <tbody>\n",
       "    <tr>\n",
       "      <th>0</th>\n",
       "      <td>1</td>\n",
       "      <td>ALPHABET CITY</td>\n",
       "      <td>07 RENTALS - WALKUP APARTMENTS</td>\n",
       "      <td>2A</td>\n",
       "      <td>392</td>\n",
       "      <td>6</td>\n",
       "      <td>C2</td>\n",
       "      <td>153 AVENUE B</td>\n",
       "      <td>10009.0</td>\n",
       "      <td>5</td>\n",
       "      <td>0</td>\n",
       "      <td>5.0</td>\n",
       "      <td>1633.0</td>\n",
       "      <td>6440.0</td>\n",
       "      <td>1900.0</td>\n",
       "      <td>2</td>\n",
       "      <td>C2</td>\n",
       "      <td>6625000.0</td>\n",
       "      <td>2017-07-19 00:00:00</td>\n",
       "    </tr>\n",
       "    <tr>\n",
       "      <th>1</th>\n",
       "      <td>1</td>\n",
       "      <td>ALPHABET CITY</td>\n",
       "      <td>07 RENTALS - WALKUP APARTMENTS</td>\n",
       "      <td>2</td>\n",
       "      <td>399</td>\n",
       "      <td>26</td>\n",
       "      <td>C7</td>\n",
       "      <td>234 EAST 4TH   STREET</td>\n",
       "      <td>10009.0</td>\n",
       "      <td>28</td>\n",
       "      <td>3</td>\n",
       "      <td>31.0</td>\n",
       "      <td>4616.0</td>\n",
       "      <td>18690.0</td>\n",
       "      <td>1900.0</td>\n",
       "      <td>2</td>\n",
       "      <td>C7</td>\n",
       "      <td>NaN</td>\n",
       "      <td>2016-12-14 00:00:00</td>\n",
       "    </tr>\n",
       "    <tr>\n",
       "      <th>2</th>\n",
       "      <td>1</td>\n",
       "      <td>ALPHABET CITY</td>\n",
       "      <td>07 RENTALS - WALKUP APARTMENTS</td>\n",
       "      <td>2</td>\n",
       "      <td>399</td>\n",
       "      <td>39</td>\n",
       "      <td>C7</td>\n",
       "      <td>197 EAST 3RD   STREET</td>\n",
       "      <td>10009.0</td>\n",
       "      <td>16</td>\n",
       "      <td>1</td>\n",
       "      <td>17.0</td>\n",
       "      <td>2212.0</td>\n",
       "      <td>7803.0</td>\n",
       "      <td>1900.0</td>\n",
       "      <td>2</td>\n",
       "      <td>C7</td>\n",
       "      <td>NaN</td>\n",
       "      <td>2016-12-09 00:00:00</td>\n",
       "    </tr>\n",
       "    <tr>\n",
       "      <th>3</th>\n",
       "      <td>1</td>\n",
       "      <td>ALPHABET CITY</td>\n",
       "      <td>07 RENTALS - WALKUP APARTMENTS</td>\n",
       "      <td>2B</td>\n",
       "      <td>402</td>\n",
       "      <td>21</td>\n",
       "      <td>C4</td>\n",
       "      <td>154 EAST 7TH STREET</td>\n",
       "      <td>10009.0</td>\n",
       "      <td>10</td>\n",
       "      <td>0</td>\n",
       "      <td>10.0</td>\n",
       "      <td>2272.0</td>\n",
       "      <td>6794.0</td>\n",
       "      <td>1913.0</td>\n",
       "      <td>2</td>\n",
       "      <td>C4</td>\n",
       "      <td>3936272.0</td>\n",
       "      <td>2016-09-23 00:00:00</td>\n",
       "    </tr>\n",
       "    <tr>\n",
       "      <th>4</th>\n",
       "      <td>1</td>\n",
       "      <td>ALPHABET CITY</td>\n",
       "      <td>07 RENTALS - WALKUP APARTMENTS</td>\n",
       "      <td>2A</td>\n",
       "      <td>404</td>\n",
       "      <td>55</td>\n",
       "      <td>C2</td>\n",
       "      <td>301 EAST 10TH   STREET</td>\n",
       "      <td>10009.0</td>\n",
       "      <td>6</td>\n",
       "      <td>0</td>\n",
       "      <td>6.0</td>\n",
       "      <td>2369.0</td>\n",
       "      <td>4615.0</td>\n",
       "      <td>1900.0</td>\n",
       "      <td>2</td>\n",
       "      <td>C2</td>\n",
       "      <td>8000000.0</td>\n",
       "      <td>2016-11-17 00:00:00</td>\n",
       "    </tr>\n",
       "  </tbody>\n",
       "</table>\n",
       "</div>"
      ],
      "text/plain": [
       "   BOROUGH   NEIGHBORHOOD                      BUILDING CLASS CATEGORY  \\\n",
       "0        1  ALPHABET CITY  07 RENTALS - WALKUP APARTMENTS                \n",
       "1        1  ALPHABET CITY  07 RENTALS - WALKUP APARTMENTS                \n",
       "2        1  ALPHABET CITY  07 RENTALS - WALKUP APARTMENTS                \n",
       "3        1  ALPHABET CITY  07 RENTALS - WALKUP APARTMENTS                \n",
       "4        1  ALPHABET CITY  07 RENTALS - WALKUP APARTMENTS                \n",
       "\n",
       "  TAX CLASS AT PRESENT  BLOCK  LOT BUILDING CLASS AT PRESENT  \\\n",
       "0                   2A    392    6                        C2   \n",
       "1                    2    399   26                        C7   \n",
       "2                    2    399   39                        C7   \n",
       "3                   2B    402   21                        C4   \n",
       "4                   2A    404   55                        C2   \n",
       "\n",
       "                  ADDRESS  ZIP CODE  RESIDENTIAL UNITS  COMMERCIAL UNITS  \\\n",
       "0            153 AVENUE B   10009.0                  5                 0   \n",
       "1   234 EAST 4TH   STREET   10009.0                 28                 3   \n",
       "2   197 EAST 3RD   STREET   10009.0                 16                 1   \n",
       "3     154 EAST 7TH STREET   10009.0                 10                 0   \n",
       "4  301 EAST 10TH   STREET   10009.0                  6                 0   \n",
       "\n",
       "   TOTAL UNITS  LAND SQUARE FEET  GROSS SQUARE FEET  YEAR BUILT  \\\n",
       "0          5.0            1633.0             6440.0      1900.0   \n",
       "1         31.0            4616.0            18690.0      1900.0   \n",
       "2         17.0            2212.0             7803.0      1900.0   \n",
       "3         10.0            2272.0             6794.0      1913.0   \n",
       "4          6.0            2369.0             4615.0      1900.0   \n",
       "\n",
       "   TAX CLASS AT TIME OF SALE BUILDING CLASS AT TIME OF SALE  SALE PRICE  \\\n",
       "0                          2                             C2   6625000.0   \n",
       "1                          2                             C7         NaN   \n",
       "2                          2                             C7         NaN   \n",
       "3                          2                             C4   3936272.0   \n",
       "4                          2                             C2   8000000.0   \n",
       "\n",
       "             SALE DATE  \n",
       "0  2017-07-19 00:00:00  \n",
       "1  2016-12-14 00:00:00  \n",
       "2  2016-12-09 00:00:00  \n",
       "3  2016-09-23 00:00:00  \n",
       "4  2016-11-17 00:00:00  "
      ]
     },
     "execution_count": 134,
     "metadata": {},
     "output_type": "execute_result"
    }
   ],
   "source": [
    "df_nycsales.head()"
   ]
  },
  {
   "cell_type": "markdown",
   "metadata": {},
   "source": [
    "### Mengganti Nilai pada Missing Values"
   ]
  },
  {
   "cell_type": "markdown",
   "metadata": {},
   "source": [
    "**Mengganti nilai missing values pada kolom kategorik dengan nilai modusnya**"
   ]
  },
  {
   "cell_type": "code",
   "execution_count": 135,
   "metadata": {},
   "outputs": [],
   "source": [
    "categoric_columns = ['TAX CLASS AT PRESENT', 'BUILDING CLASS AT PRESENT', 'ZIP CODE', 'YEAR BUILT']\n",
    "for cat_col in categoric_columns:\n",
    "    df_nycsales[cat_col].fillna(df_nycsales[cat_col].mode()[0],inplace=True)"
   ]
  },
  {
   "cell_type": "markdown",
   "metadata": {},
   "source": [
    "**Mengganti nilai missing values untuk kolom numerik (kecuali SALE PRICE) dengan nilai mediannya**"
   ]
  },
  {
   "cell_type": "code",
   "execution_count": 136,
   "metadata": {},
   "outputs": [],
   "source": [
    "float_columns = ['LAND SQUARE FEET', 'GROSS SQUARE FEET']\n",
    "for float_col in float_columns:\n",
    "    df_nycsales[float_col].fillna(df_nycsales[float_col].median(),inplace=True)"
   ]
  },
  {
   "cell_type": "markdown",
   "metadata": {},
   "source": [
    "### Menghapus sisa kolom yang masih memuat missing values"
   ]
  },
  {
   "cell_type": "markdown",
   "metadata": {},
   "source": [
    "**Menghapus baris atau kolom yang mengandung missing values**"
   ]
  },
  {
   "cell_type": "code",
   "execution_count": 137,
   "metadata": {},
   "outputs": [],
   "source": [
    "df_nycsales.dropna(inplace=True)"
   ]
  },
  {
   "cell_type": "markdown",
   "metadata": {},
   "source": [
    "**Mengecek dan melihat informasi dataset**"
   ]
  },
  {
   "cell_type": "code",
   "execution_count": 138,
   "metadata": {},
   "outputs": [
    {
     "name": "stdout",
     "output_type": "stream",
     "text": [
      "<class 'pandas.core.frame.DataFrame'>\n",
      "Int64Index: 52363 entries, 0 to 84547\n",
      "Data columns (total 19 columns):\n",
      " #   Column                          Non-Null Count  Dtype  \n",
      "---  ------                          --------------  -----  \n",
      " 0   BOROUGH                         52363 non-null  int64  \n",
      " 1   NEIGHBORHOOD                    52363 non-null  object \n",
      " 2   BUILDING CLASS CATEGORY         52363 non-null  object \n",
      " 3   TAX CLASS AT PRESENT            52363 non-null  object \n",
      " 4   BLOCK                           52363 non-null  int64  \n",
      " 5   LOT                             52363 non-null  int64  \n",
      " 6   BUILDING CLASS AT PRESENT       52363 non-null  object \n",
      " 7   ADDRESS                         52363 non-null  object \n",
      " 8   ZIP CODE                        52363 non-null  float64\n",
      " 9   RESIDENTIAL UNITS               52363 non-null  int64  \n",
      " 10  COMMERCIAL UNITS                52363 non-null  int64  \n",
      " 11  TOTAL UNITS                     52363 non-null  float64\n",
      " 12  LAND SQUARE FEET                52363 non-null  float64\n",
      " 13  GROSS SQUARE FEET               52363 non-null  float64\n",
      " 14  YEAR BUILT                      52363 non-null  float64\n",
      " 15  TAX CLASS AT TIME OF SALE       52363 non-null  int64  \n",
      " 16  BUILDING CLASS AT TIME OF SALE  52363 non-null  object \n",
      " 17  SALE PRICE                      52363 non-null  float64\n",
      " 18  SALE DATE                       52363 non-null  object \n",
      "dtypes: float64(6), int64(6), object(7)\n",
      "memory usage: 8.0+ MB\n"
     ]
    }
   ],
   "source": [
    "df_nycsales.info()"
   ]
  },
  {
   "cell_type": "markdown",
   "metadata": {},
   "source": [
    "### Mengecek dan menghapus baris duplikat"
   ]
  },
  {
   "cell_type": "markdown",
   "metadata": {},
   "source": [
    "**Mengecek semua baris duplikat**"
   ]
  },
  {
   "cell_type": "code",
   "execution_count": 139,
   "metadata": {},
   "outputs": [
    {
     "data": {
      "text/html": [
       "<div>\n",
       "<style scoped>\n",
       "    .dataframe tbody tr th:only-of-type {\n",
       "        vertical-align: middle;\n",
       "    }\n",
       "\n",
       "    .dataframe tbody tr th {\n",
       "        vertical-align: top;\n",
       "    }\n",
       "\n",
       "    .dataframe thead th {\n",
       "        text-align: right;\n",
       "    }\n",
       "</style>\n",
       "<table border=\"1\" class=\"dataframe\">\n",
       "  <thead>\n",
       "    <tr style=\"text-align: right;\">\n",
       "      <th></th>\n",
       "      <th>BOROUGH</th>\n",
       "      <th>NEIGHBORHOOD</th>\n",
       "      <th>BUILDING CLASS CATEGORY</th>\n",
       "      <th>TAX CLASS AT PRESENT</th>\n",
       "      <th>BLOCK</th>\n",
       "      <th>LOT</th>\n",
       "      <th>BUILDING CLASS AT PRESENT</th>\n",
       "      <th>ADDRESS</th>\n",
       "      <th>ZIP CODE</th>\n",
       "      <th>RESIDENTIAL UNITS</th>\n",
       "      <th>COMMERCIAL UNITS</th>\n",
       "      <th>TOTAL UNITS</th>\n",
       "      <th>LAND SQUARE FEET</th>\n",
       "      <th>GROSS SQUARE FEET</th>\n",
       "      <th>YEAR BUILT</th>\n",
       "      <th>TAX CLASS AT TIME OF SALE</th>\n",
       "      <th>BUILDING CLASS AT TIME OF SALE</th>\n",
       "      <th>SALE PRICE</th>\n",
       "      <th>SALE DATE</th>\n",
       "    </tr>\n",
       "  </thead>\n",
       "  <tbody>\n",
       "    <tr>\n",
       "      <th>208</th>\n",
       "      <td>1</td>\n",
       "      <td>CHELSEA</td>\n",
       "      <td>01 ONE FAMILY DWELLINGS</td>\n",
       "      <td>1</td>\n",
       "      <td>772</td>\n",
       "      <td>29</td>\n",
       "      <td>A4</td>\n",
       "      <td>231 WEST 22ND   STREET</td>\n",
       "      <td>10011.0</td>\n",
       "      <td>1</td>\n",
       "      <td>0</td>\n",
       "      <td>1.0</td>\n",
       "      <td>1588.0</td>\n",
       "      <td>5653.0</td>\n",
       "      <td>1900.0</td>\n",
       "      <td>1</td>\n",
       "      <td>A4</td>\n",
       "      <td>10.0</td>\n",
       "      <td>2017-01-30 00:00:00</td>\n",
       "    </tr>\n",
       "    <tr>\n",
       "      <th>209</th>\n",
       "      <td>1</td>\n",
       "      <td>CHELSEA</td>\n",
       "      <td>01 ONE FAMILY DWELLINGS</td>\n",
       "      <td>1</td>\n",
       "      <td>772</td>\n",
       "      <td>29</td>\n",
       "      <td>A4</td>\n",
       "      <td>231 WEST 22ND   STREET</td>\n",
       "      <td>10011.0</td>\n",
       "      <td>1</td>\n",
       "      <td>0</td>\n",
       "      <td>1.0</td>\n",
       "      <td>1588.0</td>\n",
       "      <td>5653.0</td>\n",
       "      <td>1900.0</td>\n",
       "      <td>1</td>\n",
       "      <td>A4</td>\n",
       "      <td>10.0</td>\n",
       "      <td>2017-01-30 00:00:00</td>\n",
       "    </tr>\n",
       "    <tr>\n",
       "      <th>683</th>\n",
       "      <td>1</td>\n",
       "      <td>CHELSEA</td>\n",
       "      <td>13 CONDOS - ELEVATOR APARTMENTS</td>\n",
       "      <td>2</td>\n",
       "      <td>774</td>\n",
       "      <td>1042</td>\n",
       "      <td>R4</td>\n",
       "      <td>252 SEVENTH AVENUE</td>\n",
       "      <td>10001.0</td>\n",
       "      <td>1</td>\n",
       "      <td>0</td>\n",
       "      <td>1.0</td>\n",
       "      <td>2325.0</td>\n",
       "      <td>1680.0</td>\n",
       "      <td>1920.0</td>\n",
       "      <td>2</td>\n",
       "      <td>R4</td>\n",
       "      <td>1500000.0</td>\n",
       "      <td>2016-10-05 00:00:00</td>\n",
       "    </tr>\n",
       "    <tr>\n",
       "      <th>2296</th>\n",
       "      <td>1</td>\n",
       "      <td>FINANCIAL</td>\n",
       "      <td>13 CONDOS - ELEVATOR APARTMENTS</td>\n",
       "      <td>2</td>\n",
       "      <td>24</td>\n",
       "      <td>1123</td>\n",
       "      <td>R4</td>\n",
       "      <td>40 BROAD STREET</td>\n",
       "      <td>10004.0</td>\n",
       "      <td>1</td>\n",
       "      <td>0</td>\n",
       "      <td>1.0</td>\n",
       "      <td>2325.0</td>\n",
       "      <td>1680.0</td>\n",
       "      <td>1982.0</td>\n",
       "      <td>2</td>\n",
       "      <td>R4</td>\n",
       "      <td>1200000.0</td>\n",
       "      <td>2017-04-28 00:00:00</td>\n",
       "    </tr>\n",
       "    <tr>\n",
       "      <th>3427</th>\n",
       "      <td>1</td>\n",
       "      <td>GRAMERCY</td>\n",
       "      <td>13 CONDOS - ELEVATOR APARTMENTS</td>\n",
       "      <td>2</td>\n",
       "      <td>879</td>\n",
       "      <td>1207</td>\n",
       "      <td>R4</td>\n",
       "      <td>148 EAST 24TH   STREET</td>\n",
       "      <td>10010.0</td>\n",
       "      <td>1</td>\n",
       "      <td>0</td>\n",
       "      <td>1.0</td>\n",
       "      <td>2325.0</td>\n",
       "      <td>1680.0</td>\n",
       "      <td>2009.0</td>\n",
       "      <td>2</td>\n",
       "      <td>R4</td>\n",
       "      <td>716000.0</td>\n",
       "      <td>2017-04-07 00:00:00</td>\n",
       "    </tr>\n",
       "    <tr>\n",
       "      <th>...</th>\n",
       "      <td>...</td>\n",
       "      <td>...</td>\n",
       "      <td>...</td>\n",
       "      <td>...</td>\n",
       "      <td>...</td>\n",
       "      <td>...</td>\n",
       "      <td>...</td>\n",
       "      <td>...</td>\n",
       "      <td>...</td>\n",
       "      <td>...</td>\n",
       "      <td>...</td>\n",
       "      <td>...</td>\n",
       "      <td>...</td>\n",
       "      <td>...</td>\n",
       "      <td>...</td>\n",
       "      <td>...</td>\n",
       "      <td>...</td>\n",
       "      <td>...</td>\n",
       "      <td>...</td>\n",
       "    </tr>\n",
       "    <tr>\n",
       "      <th>83176</th>\n",
       "      <td>5</td>\n",
       "      <td>TODT HILL</td>\n",
       "      <td>01 ONE FAMILY DWELLINGS</td>\n",
       "      <td>1</td>\n",
       "      <td>908</td>\n",
       "      <td>150</td>\n",
       "      <td>A1</td>\n",
       "      <td>3 HELENA ROAD</td>\n",
       "      <td>10304.0</td>\n",
       "      <td>1</td>\n",
       "      <td>0</td>\n",
       "      <td>1.0</td>\n",
       "      <td>38862.0</td>\n",
       "      <td>3900.0</td>\n",
       "      <td>1920.0</td>\n",
       "      <td>1</td>\n",
       "      <td>A1</td>\n",
       "      <td>1125000.0</td>\n",
       "      <td>2017-08-02 00:00:00</td>\n",
       "    </tr>\n",
       "    <tr>\n",
       "      <th>83207</th>\n",
       "      <td>5</td>\n",
       "      <td>TOMPKINSVILLE</td>\n",
       "      <td>02 TWO FAMILY DWELLINGS</td>\n",
       "      <td>1</td>\n",
       "      <td>114</td>\n",
       "      <td>30</td>\n",
       "      <td>B2</td>\n",
       "      <td>160 CASTLETON AVENUE</td>\n",
       "      <td>10301.0</td>\n",
       "      <td>2</td>\n",
       "      <td>0</td>\n",
       "      <td>2.0</td>\n",
       "      <td>5781.0</td>\n",
       "      <td>844.0</td>\n",
       "      <td>1942.0</td>\n",
       "      <td>1</td>\n",
       "      <td>B2</td>\n",
       "      <td>250000.0</td>\n",
       "      <td>2017-06-22 00:00:00</td>\n",
       "    </tr>\n",
       "    <tr>\n",
       "      <th>83603</th>\n",
       "      <td>5</td>\n",
       "      <td>WEST NEW BRIGHTON</td>\n",
       "      <td>01 ONE FAMILY DWELLINGS</td>\n",
       "      <td>1</td>\n",
       "      <td>91</td>\n",
       "      <td>31</td>\n",
       "      <td>A1</td>\n",
       "      <td>3 CLINTON COURT</td>\n",
       "      <td>10301.0</td>\n",
       "      <td>1</td>\n",
       "      <td>0</td>\n",
       "      <td>1.0</td>\n",
       "      <td>4840.0</td>\n",
       "      <td>2400.0</td>\n",
       "      <td>2005.0</td>\n",
       "      <td>1</td>\n",
       "      <td>A1</td>\n",
       "      <td>585000.0</td>\n",
       "      <td>2016-09-21 00:00:00</td>\n",
       "    </tr>\n",
       "    <tr>\n",
       "      <th>83647</th>\n",
       "      <td>5</td>\n",
       "      <td>WEST NEW BRIGHTON</td>\n",
       "      <td>01 ONE FAMILY DWELLINGS</td>\n",
       "      <td>1</td>\n",
       "      <td>155</td>\n",
       "      <td>180</td>\n",
       "      <td>A1</td>\n",
       "      <td>441 OAKLAND AVENUE</td>\n",
       "      <td>10310.0</td>\n",
       "      <td>1</td>\n",
       "      <td>0</td>\n",
       "      <td>1.0</td>\n",
       "      <td>10671.0</td>\n",
       "      <td>2464.0</td>\n",
       "      <td>1899.0</td>\n",
       "      <td>1</td>\n",
       "      <td>A1</td>\n",
       "      <td>725000.0</td>\n",
       "      <td>2017-06-30 00:00:00</td>\n",
       "    </tr>\n",
       "    <tr>\n",
       "      <th>84445</th>\n",
       "      <td>5</td>\n",
       "      <td>WOODROW</td>\n",
       "      <td>01 ONE FAMILY DWELLINGS</td>\n",
       "      <td>1</td>\n",
       "      <td>6969</td>\n",
       "      <td>20</td>\n",
       "      <td>A5</td>\n",
       "      <td>1045 SHELDON AVENUE</td>\n",
       "      <td>10309.0</td>\n",
       "      <td>1</td>\n",
       "      <td>0</td>\n",
       "      <td>1.0</td>\n",
       "      <td>2773.0</td>\n",
       "      <td>1650.0</td>\n",
       "      <td>1999.0</td>\n",
       "      <td>1</td>\n",
       "      <td>A5</td>\n",
       "      <td>560000.0</td>\n",
       "      <td>2016-09-07 00:00:00</td>\n",
       "    </tr>\n",
       "  </tbody>\n",
       "</table>\n",
       "<p>339 rows × 19 columns</p>\n",
       "</div>"
      ],
      "text/plain": [
       "       BOROUGH       NEIGHBORHOOD  \\\n",
       "208          1            CHELSEA   \n",
       "209          1            CHELSEA   \n",
       "683          1            CHELSEA   \n",
       "2296         1          FINANCIAL   \n",
       "3427         1           GRAMERCY   \n",
       "...        ...                ...   \n",
       "83176        5          TODT HILL   \n",
       "83207        5      TOMPKINSVILLE   \n",
       "83603        5  WEST NEW BRIGHTON   \n",
       "83647        5  WEST NEW BRIGHTON   \n",
       "84445        5            WOODROW   \n",
       "\n",
       "                           BUILDING CLASS CATEGORY TAX CLASS AT PRESENT  \\\n",
       "208    01 ONE FAMILY DWELLINGS                                        1   \n",
       "209    01 ONE FAMILY DWELLINGS                                        1   \n",
       "683    13 CONDOS - ELEVATOR APARTMENTS                                2   \n",
       "2296   13 CONDOS - ELEVATOR APARTMENTS                                2   \n",
       "3427   13 CONDOS - ELEVATOR APARTMENTS                                2   \n",
       "...                                            ...                  ...   \n",
       "83176  01 ONE FAMILY DWELLINGS                                        1   \n",
       "83207  02 TWO FAMILY DWELLINGS                                        1   \n",
       "83603  01 ONE FAMILY DWELLINGS                                        1   \n",
       "83647  01 ONE FAMILY DWELLINGS                                        1   \n",
       "84445  01 ONE FAMILY DWELLINGS                                        1   \n",
       "\n",
       "       BLOCK   LOT BUILDING CLASS AT PRESENT                 ADDRESS  \\\n",
       "208      772    29                        A4  231 WEST 22ND   STREET   \n",
       "209      772    29                        A4  231 WEST 22ND   STREET   \n",
       "683      774  1042                        R4      252 SEVENTH AVENUE   \n",
       "2296      24  1123                        R4         40 BROAD STREET   \n",
       "3427     879  1207                        R4  148 EAST 24TH   STREET   \n",
       "...      ...   ...                       ...                     ...   \n",
       "83176    908   150                        A1           3 HELENA ROAD   \n",
       "83207    114    30                        B2    160 CASTLETON AVENUE   \n",
       "83603     91    31                        A1         3 CLINTON COURT   \n",
       "83647    155   180                        A1      441 OAKLAND AVENUE   \n",
       "84445   6969    20                        A5     1045 SHELDON AVENUE   \n",
       "\n",
       "       ZIP CODE  RESIDENTIAL UNITS  COMMERCIAL UNITS  TOTAL UNITS  \\\n",
       "208     10011.0                  1                 0          1.0   \n",
       "209     10011.0                  1                 0          1.0   \n",
       "683     10001.0                  1                 0          1.0   \n",
       "2296    10004.0                  1                 0          1.0   \n",
       "3427    10010.0                  1                 0          1.0   \n",
       "...         ...                ...               ...          ...   \n",
       "83176   10304.0                  1                 0          1.0   \n",
       "83207   10301.0                  2                 0          2.0   \n",
       "83603   10301.0                  1                 0          1.0   \n",
       "83647   10310.0                  1                 0          1.0   \n",
       "84445   10309.0                  1                 0          1.0   \n",
       "\n",
       "       LAND SQUARE FEET  GROSS SQUARE FEET  YEAR BUILT  \\\n",
       "208              1588.0             5653.0      1900.0   \n",
       "209              1588.0             5653.0      1900.0   \n",
       "683              2325.0             1680.0      1920.0   \n",
       "2296             2325.0             1680.0      1982.0   \n",
       "3427             2325.0             1680.0      2009.0   \n",
       "...                 ...                ...         ...   \n",
       "83176           38862.0             3900.0      1920.0   \n",
       "83207            5781.0              844.0      1942.0   \n",
       "83603            4840.0             2400.0      2005.0   \n",
       "83647           10671.0             2464.0      1899.0   \n",
       "84445            2773.0             1650.0      1999.0   \n",
       "\n",
       "       TAX CLASS AT TIME OF SALE BUILDING CLASS AT TIME OF SALE  SALE PRICE  \\\n",
       "208                            1                             A4        10.0   \n",
       "209                            1                             A4        10.0   \n",
       "683                            2                             R4   1500000.0   \n",
       "2296                           2                             R4   1200000.0   \n",
       "3427                           2                             R4    716000.0   \n",
       "...                          ...                            ...         ...   \n",
       "83176                          1                             A1   1125000.0   \n",
       "83207                          1                             B2    250000.0   \n",
       "83603                          1                             A1    585000.0   \n",
       "83647                          1                             A1    725000.0   \n",
       "84445                          1                             A5    560000.0   \n",
       "\n",
       "                 SALE DATE  \n",
       "208    2017-01-30 00:00:00  \n",
       "209    2017-01-30 00:00:00  \n",
       "683    2016-10-05 00:00:00  \n",
       "2296   2017-04-28 00:00:00  \n",
       "3427   2017-04-07 00:00:00  \n",
       "...                    ...  \n",
       "83176  2017-08-02 00:00:00  \n",
       "83207  2017-06-22 00:00:00  \n",
       "83603  2016-09-21 00:00:00  \n",
       "83647  2017-06-30 00:00:00  \n",
       "84445  2016-09-07 00:00:00  \n",
       "\n",
       "[339 rows x 19 columns]"
      ]
     },
     "execution_count": 139,
     "metadata": {},
     "output_type": "execute_result"
    }
   ],
   "source": [
    "df_nycsales[\n",
    "    df_nycsales.duplicated()\n",
    "]"
   ]
  },
  {
   "cell_type": "markdown",
   "metadata": {},
   "source": [
    "**Menghitung total baris duplikat**"
   ]
  },
  {
   "cell_type": "code",
   "execution_count": 140,
   "metadata": {},
   "outputs": [
    {
     "name": "stdout",
     "output_type": "stream",
     "text": [
      "339\n"
     ]
    }
   ],
   "source": [
    "rows_duplicated = df_nycsales.duplicated()\n",
    "print(rows_duplicated.sum())"
   ]
  },
  {
   "cell_type": "markdown",
   "metadata": {},
   "source": [
    "**Membuang baris duplikat**"
   ]
  },
  {
   "cell_type": "code",
   "execution_count": 141,
   "metadata": {},
   "outputs": [],
   "source": [
    "df_nycsales.drop_duplicates(subset=df_nycsales.columns,keep='first', inplace=True)"
   ]
  },
  {
   "cell_type": "markdown",
   "metadata": {},
   "source": [
    "**Melihat dimensi data setelah menghapus baris duplikat**"
   ]
  },
  {
   "cell_type": "code",
   "execution_count": 142,
   "metadata": {},
   "outputs": [
    {
     "data": {
      "text/plain": [
       "(52024, 19)"
      ]
     },
     "execution_count": 142,
     "metadata": {},
     "output_type": "execute_result"
    }
   ],
   "source": [
    "df_nycsales.shape"
   ]
  },
  {
   "cell_type": "markdown",
   "metadata": {},
   "source": [
    "### Mengubah tipe data setiap kolom dengan tipe seharusnya\n",
    "- Kolom Kategorikal (String): <br>\n",
    "('BOROUGH', 'NEIGHBORHOOD', 'BUILDING CLASS CATEGORY', 'TAX CLASS AT PRESENT', 'ZIP CODE', 'YEAR BUILT', 'TAX CLASS AT TIME OF SALE', 'BUILDING CLASS AT TIME OF SALE', 'BUILDING CLASS AT PRESENT')\n",
    "- Kolom Float (Bilangan rasional): <br>\n",
    "('SALE PRICE', 'LAND SQUARE FEET', 'GROSS SQUARE FEET')\n",
    "- Kolom Integer (Bilangan bulat): <br>\n",
    "(BLOCK, LOT)"
   ]
  },
  {
   "cell_type": "code",
   "execution_count": 143,
   "metadata": {},
   "outputs": [],
   "source": [
    "categoric_columns = ['BOROUGH', 'NEIGHBORHOOD', 'BUILDING CLASS CATEGORY', 'TAX CLASS AT PRESENT', \n",
    "                'ZIP CODE', 'YEAR BUILT', 'TAX CLASS AT TIME OF SALE', 'BUILDING CLASS AT TIME OF SALE',\n",
    "                'BUILDING CLASS AT PRESENT']\n",
    "float_columns = ['SALE PRICE', 'LAND SQUARE FEET', 'GROSS SQUARE FEET']\n",
    "integer_columns = ['BLOCK', 'LOT']"
   ]
  },
  {
   "cell_type": "markdown",
   "metadata": {},
   "source": [
    "**Mengubah kolom yang seharusnya kategori menjadi tipe 'str'**"
   ]
  },
  {
   "cell_type": "code",
   "execution_count": 144,
   "metadata": {},
   "outputs": [],
   "source": [
    "for col in categoric_columns:\n",
    "    df_nycsales[col] = df_nycsales[col].astype('str')"
   ]
  },
  {
   "cell_type": "markdown",
   "metadata": {},
   "source": [
    "**Mengubah kolom yang seharusnya float menjadi tipe 'float'**"
   ]
  },
  {
   "cell_type": "code",
   "execution_count": 145,
   "metadata": {},
   "outputs": [],
   "source": [
    "for col in float_columns:\n",
    "    df_nycsales[col] = df_nycsales[col].astype('float64')"
   ]
  },
  {
   "cell_type": "markdown",
   "metadata": {},
   "source": [
    "**Mengubah kolom yang seharusnya int menjadi tipe 'int'**"
   ]
  },
  {
   "cell_type": "code",
   "execution_count": 146,
   "metadata": {},
   "outputs": [],
   "source": [
    "for col in integer_columns:\n",
    "    df_nycsales[col] = df_nycsales[col].astype('int64')"
   ]
  },
  {
   "cell_type": "markdown",
   "metadata": {},
   "source": [
    "**Mengecek tipe data semua kolom setelah diubah**"
   ]
  },
  {
   "cell_type": "code",
   "execution_count": 147,
   "metadata": {},
   "outputs": [
    {
     "name": "stdout",
     "output_type": "stream",
     "text": [
      "<class 'pandas.core.frame.DataFrame'>\n",
      "Int64Index: 52024 entries, 0 to 84547\n",
      "Data columns (total 19 columns):\n",
      " #   Column                          Non-Null Count  Dtype  \n",
      "---  ------                          --------------  -----  \n",
      " 0   BOROUGH                         52024 non-null  object \n",
      " 1   NEIGHBORHOOD                    52024 non-null  object \n",
      " 2   BUILDING CLASS CATEGORY         52024 non-null  object \n",
      " 3   TAX CLASS AT PRESENT            52024 non-null  object \n",
      " 4   BLOCK                           52024 non-null  int64  \n",
      " 5   LOT                             52024 non-null  int64  \n",
      " 6   BUILDING CLASS AT PRESENT       52024 non-null  object \n",
      " 7   ADDRESS                         52024 non-null  object \n",
      " 8   ZIP CODE                        52024 non-null  object \n",
      " 9   RESIDENTIAL UNITS               52024 non-null  int64  \n",
      " 10  COMMERCIAL UNITS                52024 non-null  int64  \n",
      " 11  TOTAL UNITS                     52024 non-null  float64\n",
      " 12  LAND SQUARE FEET                52024 non-null  float64\n",
      " 13  GROSS SQUARE FEET               52024 non-null  float64\n",
      " 14  YEAR BUILT                      52024 non-null  object \n",
      " 15  TAX CLASS AT TIME OF SALE       52024 non-null  object \n",
      " 16  BUILDING CLASS AT TIME OF SALE  52024 non-null  object \n",
      " 17  SALE PRICE                      52024 non-null  float64\n",
      " 18  SALE DATE                       52024 non-null  object \n",
      "dtypes: float64(4), int64(4), object(11)\n",
      "memory usage: 7.9+ MB\n"
     ]
    }
   ],
   "source": [
    "df_nycsales.info()"
   ]
  },
  {
   "cell_type": "markdown",
   "metadata": {},
   "source": [
    "### Mengganti nilai pada kolom 'BOROUGH'"
   ]
  },
  {
   "cell_type": "markdown",
   "metadata": {},
   "source": [
    "**Mengganti nilai pada kolom 'BOROUGH' dengan nilai yang seharusnya dan menjadi tipe string**"
   ]
  },
  {
   "cell_type": "code",
   "execution_count": 148,
   "metadata": {},
   "outputs": [],
   "source": [
    "df_nycsales['BOROUGH'].replace({'1':'Manhattan','2':'Bronx','3':'Brooklyn','4':'Queens','5':'Staten Island'},inplace=True)"
   ]
  },
  {
   "cell_type": "markdown",
   "metadata": {},
   "source": [
    "### Modifikasi kolom 'SALE DATE'\n",
    "Mengubah kolom 'SALE DATE' menjadi tipe datetime serta menambahkan kolom year, month, date, lalu menghapus kolom 'SALE DATE'"
   ]
  },
  {
   "cell_type": "code",
   "execution_count": 149,
   "metadata": {},
   "outputs": [],
   "source": [
    "df_nycsales['SALE DATE'] = pd.to_datetime(df_nycsales['SALE DATE'])\n",
    "df_nycsales['SALE YEAR'] = df_nycsales['SALE DATE'].dt.year\n",
    "df_nycsales['SALE MONTH'] = df_nycsales['SALE DATE'].dt.month_name()\n",
    "df_nycsales['SALE DATE dt'] = df_nycsales['SALE DATE'].dt.day\n",
    "df_nycsales['SALE DAY'] = df_nycsales['SALE DATE'].dt.day_name()\n",
    "df_nycsales.drop('SALE DATE',inplace=True, axis=1)"
   ]
  },
  {
   "cell_type": "markdown",
   "metadata": {},
   "source": [
    "**rename kolom SALE DATE dt menjadi SALE DATE**"
   ]
  },
  {
   "cell_type": "code",
   "execution_count": 150,
   "metadata": {},
   "outputs": [],
   "source": [
    "df_nycsales.rename(columns={'SALE DATE dt':'SALE DATE'},inplace=True)"
   ]
  },
  {
   "cell_type": "markdown",
   "metadata": {},
   "source": [
    "**Re-index dataframe setelah dilakukan preprocessing**"
   ]
  },
  {
   "cell_type": "code",
   "execution_count": 151,
   "metadata": {},
   "outputs": [],
   "source": [
    "df_nycsales.index = range(0,len(df_nycsales))"
   ]
  },
  {
   "cell_type": "markdown",
   "metadata": {},
   "source": [
    "**Melihat kembali dimensi dataset**"
   ]
  },
  {
   "cell_type": "code",
   "execution_count": 152,
   "metadata": {},
   "outputs": [
    {
     "name": "stdout",
     "output_type": "stream",
     "text": [
      "Dimensi data:\n",
      "52024 baris\n",
      "22 kolom\n"
     ]
    }
   ],
   "source": [
    "row, column = df_nycsales.shape\n",
    "print(\"Dimensi data:\")\n",
    "print(row, \"baris\")\n",
    "print(column, \"kolom\")"
   ]
  },
  {
   "cell_type": "markdown",
   "metadata": {},
   "source": [
    "### Menghapus Outliers/Pencilan"
   ]
  },
  {
   "cell_type": "markdown",
   "metadata": {},
   "source": [
    "**Hitung kuartile 3 setiap atribut pada data**"
   ]
  },
  {
   "cell_type": "code",
   "execution_count": 153,
   "metadata": {},
   "outputs": [],
   "source": [
    "Q3 = df_nycsales.quantile(0.75)"
   ]
  },
  {
   "cell_type": "markdown",
   "metadata": {},
   "source": [
    "**Hitung kuartile 1 setiap atribut pada data**"
   ]
  },
  {
   "cell_type": "code",
   "execution_count": 154,
   "metadata": {},
   "outputs": [],
   "source": [
    "Q1 = df_nycsales.quantile(0.25)"
   ]
  },
  {
   "cell_type": "markdown",
   "metadata": {},
   "source": [
    "**Hitung nilai IQR (selisih Q3 dan Q1)**"
   ]
  },
  {
   "cell_type": "code",
   "execution_count": 155,
   "metadata": {},
   "outputs": [],
   "source": [
    "IQR = Q3 - Q1\n",
    "steps = 1.5"
   ]
  },
  {
   "cell_type": "markdown",
   "metadata": {},
   "source": [
    "**Mencari data yang berada dalam rentang (bukan outlier)**"
   ]
  },
  {
   "cell_type": "code",
   "execution_count": 156,
   "metadata": {},
   "outputs": [],
   "source": [
    "df_filtered = df_nycsales[\n",
    "    ~((df_nycsales < (Q1 - steps* IQR)) |(df_nycsales > (Q3 + steps * IQR))).any(axis=1)\n",
    "]"
   ]
  },
  {
   "cell_type": "markdown",
   "metadata": {},
   "source": [
    "**Melakukan indexing ulang pada dataframe karena indexnya berantakan setelah dilakukan penghapusan data outliers**"
   ]
  },
  {
   "cell_type": "code",
   "execution_count": 157,
   "metadata": {},
   "outputs": [],
   "source": [
    "df_filtered.index = [i for i in range(len(df_filtered))]\n",
    "df_nycsales = df_filtered"
   ]
  },
  {
   "cell_type": "markdown",
   "metadata": {},
   "source": [
    "### Menampilkan DataFrame setelah preprocessing"
   ]
  },
  {
   "cell_type": "markdown",
   "metadata": {},
   "source": [
    "**Menampilkan 5 data teratas**"
   ]
  },
  {
   "cell_type": "code",
   "execution_count": 158,
   "metadata": {},
   "outputs": [
    {
     "data": {
      "text/html": [
       "<div>\n",
       "<style scoped>\n",
       "    .dataframe tbody tr th:only-of-type {\n",
       "        vertical-align: middle;\n",
       "    }\n",
       "\n",
       "    .dataframe tbody tr th {\n",
       "        vertical-align: top;\n",
       "    }\n",
       "\n",
       "    .dataframe thead th {\n",
       "        text-align: right;\n",
       "    }\n",
       "</style>\n",
       "<table border=\"1\" class=\"dataframe\">\n",
       "  <thead>\n",
       "    <tr style=\"text-align: right;\">\n",
       "      <th></th>\n",
       "      <th>BOROUGH</th>\n",
       "      <th>NEIGHBORHOOD</th>\n",
       "      <th>BUILDING CLASS CATEGORY</th>\n",
       "      <th>TAX CLASS AT PRESENT</th>\n",
       "      <th>BLOCK</th>\n",
       "      <th>LOT</th>\n",
       "      <th>BUILDING CLASS AT PRESENT</th>\n",
       "      <th>ADDRESS</th>\n",
       "      <th>ZIP CODE</th>\n",
       "      <th>RESIDENTIAL UNITS</th>\n",
       "      <th>...</th>\n",
       "      <th>LAND SQUARE FEET</th>\n",
       "      <th>GROSS SQUARE FEET</th>\n",
       "      <th>YEAR BUILT</th>\n",
       "      <th>TAX CLASS AT TIME OF SALE</th>\n",
       "      <th>BUILDING CLASS AT TIME OF SALE</th>\n",
       "      <th>SALE PRICE</th>\n",
       "      <th>SALE YEAR</th>\n",
       "      <th>SALE MONTH</th>\n",
       "      <th>SALE DATE</th>\n",
       "      <th>SALE DAY</th>\n",
       "    </tr>\n",
       "  </thead>\n",
       "  <tbody>\n",
       "    <tr>\n",
       "      <th>0</th>\n",
       "      <td>Manhattan</td>\n",
       "      <td>ALPHABET CITY</td>\n",
       "      <td>12 CONDOS - WALKUP APARTMENTS</td>\n",
       "      <td>2</td>\n",
       "      <td>386</td>\n",
       "      <td>1002</td>\n",
       "      <td>R2</td>\n",
       "      <td>211 EAST 3RD   STREET</td>\n",
       "      <td>10009.0</td>\n",
       "      <td>1</td>\n",
       "      <td>...</td>\n",
       "      <td>2325.0</td>\n",
       "      <td>1680.0</td>\n",
       "      <td>1920.0</td>\n",
       "      <td>2</td>\n",
       "      <td>R2</td>\n",
       "      <td>620000.0</td>\n",
       "      <td>2016</td>\n",
       "      <td>December</td>\n",
       "      <td>30</td>\n",
       "      <td>Friday</td>\n",
       "    </tr>\n",
       "    <tr>\n",
       "      <th>1</th>\n",
       "      <td>Manhattan</td>\n",
       "      <td>ALPHABET CITY</td>\n",
       "      <td>13 CONDOS - ELEVATOR APARTMENTS</td>\n",
       "      <td>2</td>\n",
       "      <td>373</td>\n",
       "      <td>1003</td>\n",
       "      <td>R4</td>\n",
       "      <td>324 EAST 4TH STREET</td>\n",
       "      <td>10009.0</td>\n",
       "      <td>1</td>\n",
       "      <td>...</td>\n",
       "      <td>2325.0</td>\n",
       "      <td>1680.0</td>\n",
       "      <td>1920.0</td>\n",
       "      <td>2</td>\n",
       "      <td>R4</td>\n",
       "      <td>762669.0</td>\n",
       "      <td>2016</td>\n",
       "      <td>September</td>\n",
       "      <td>21</td>\n",
       "      <td>Wednesday</td>\n",
       "    </tr>\n",
       "    <tr>\n",
       "      <th>2</th>\n",
       "      <td>Manhattan</td>\n",
       "      <td>ALPHABET CITY</td>\n",
       "      <td>13 CONDOS - ELEVATOR APARTMENTS</td>\n",
       "      <td>2</td>\n",
       "      <td>373</td>\n",
       "      <td>1004</td>\n",
       "      <td>R4</td>\n",
       "      <td>324 EAST 4TH STREET</td>\n",
       "      <td>10009.0</td>\n",
       "      <td>1</td>\n",
       "      <td>...</td>\n",
       "      <td>2325.0</td>\n",
       "      <td>1680.0</td>\n",
       "      <td>1920.0</td>\n",
       "      <td>2</td>\n",
       "      <td>R4</td>\n",
       "      <td>772851.0</td>\n",
       "      <td>2016</td>\n",
       "      <td>September</td>\n",
       "      <td>12</td>\n",
       "      <td>Monday</td>\n",
       "    </tr>\n",
       "    <tr>\n",
       "      <th>3</th>\n",
       "      <td>Manhattan</td>\n",
       "      <td>ALPHABET CITY</td>\n",
       "      <td>13 CONDOS - ELEVATOR APARTMENTS</td>\n",
       "      <td>2</td>\n",
       "      <td>373</td>\n",
       "      <td>1005</td>\n",
       "      <td>R4</td>\n",
       "      <td>324 EAST 4TH   STREET</td>\n",
       "      <td>10009.0</td>\n",
       "      <td>1</td>\n",
       "      <td>...</td>\n",
       "      <td>2325.0</td>\n",
       "      <td>1680.0</td>\n",
       "      <td>1920.0</td>\n",
       "      <td>2</td>\n",
       "      <td>R4</td>\n",
       "      <td>1034880.0</td>\n",
       "      <td>2016</td>\n",
       "      <td>November</td>\n",
       "      <td>3</td>\n",
       "      <td>Thursday</td>\n",
       "    </tr>\n",
       "    <tr>\n",
       "      <th>4</th>\n",
       "      <td>Manhattan</td>\n",
       "      <td>ALPHABET CITY</td>\n",
       "      <td>13 CONDOS - ELEVATOR APARTMENTS</td>\n",
       "      <td>2</td>\n",
       "      <td>373</td>\n",
       "      <td>1009</td>\n",
       "      <td>R4</td>\n",
       "      <td>324 EAST 4TH STREET</td>\n",
       "      <td>10009.0</td>\n",
       "      <td>1</td>\n",
       "      <td>...</td>\n",
       "      <td>2325.0</td>\n",
       "      <td>1680.0</td>\n",
       "      <td>1920.0</td>\n",
       "      <td>2</td>\n",
       "      <td>R4</td>\n",
       "      <td>800000.0</td>\n",
       "      <td>2016</td>\n",
       "      <td>September</td>\n",
       "      <td>7</td>\n",
       "      <td>Wednesday</td>\n",
       "    </tr>\n",
       "  </tbody>\n",
       "</table>\n",
       "<p>5 rows × 22 columns</p>\n",
       "</div>"
      ],
      "text/plain": [
       "     BOROUGH   NEIGHBORHOOD                      BUILDING CLASS CATEGORY  \\\n",
       "0  Manhattan  ALPHABET CITY  12 CONDOS - WALKUP APARTMENTS                 \n",
       "1  Manhattan  ALPHABET CITY  13 CONDOS - ELEVATOR APARTMENTS               \n",
       "2  Manhattan  ALPHABET CITY  13 CONDOS - ELEVATOR APARTMENTS               \n",
       "3  Manhattan  ALPHABET CITY  13 CONDOS - ELEVATOR APARTMENTS               \n",
       "4  Manhattan  ALPHABET CITY  13 CONDOS - ELEVATOR APARTMENTS               \n",
       "\n",
       "  TAX CLASS AT PRESENT  BLOCK   LOT BUILDING CLASS AT PRESENT  \\\n",
       "0                    2    386  1002                        R2   \n",
       "1                    2    373  1003                        R4   \n",
       "2                    2    373  1004                        R4   \n",
       "3                    2    373  1005                        R4   \n",
       "4                    2    373  1009                        R4   \n",
       "\n",
       "                 ADDRESS ZIP CODE  RESIDENTIAL UNITS  ...  LAND SQUARE FEET  \\\n",
       "0  211 EAST 3RD   STREET  10009.0                  1  ...            2325.0   \n",
       "1    324 EAST 4TH STREET  10009.0                  1  ...            2325.0   \n",
       "2    324 EAST 4TH STREET  10009.0                  1  ...            2325.0   \n",
       "3  324 EAST 4TH   STREET  10009.0                  1  ...            2325.0   \n",
       "4    324 EAST 4TH STREET  10009.0                  1  ...            2325.0   \n",
       "\n",
       "   GROSS SQUARE FEET  YEAR BUILT  TAX CLASS AT TIME OF SALE  \\\n",
       "0             1680.0      1920.0                          2   \n",
       "1             1680.0      1920.0                          2   \n",
       "2             1680.0      1920.0                          2   \n",
       "3             1680.0      1920.0                          2   \n",
       "4             1680.0      1920.0                          2   \n",
       "\n",
       "  BUILDING CLASS AT TIME OF SALE SALE PRICE SALE YEAR  SALE MONTH  SALE DATE  \\\n",
       "0                             R2   620000.0      2016    December         30   \n",
       "1                             R4   762669.0      2016   September         21   \n",
       "2                             R4   772851.0      2016   September         12   \n",
       "3                             R4  1034880.0      2016    November          3   \n",
       "4                             R4   800000.0      2016   September          7   \n",
       "\n",
       "    SALE DAY  \n",
       "0     Friday  \n",
       "1  Wednesday  \n",
       "2     Monday  \n",
       "3   Thursday  \n",
       "4  Wednesday  \n",
       "\n",
       "[5 rows x 22 columns]"
      ]
     },
     "execution_count": 158,
     "metadata": {},
     "output_type": "execute_result"
    }
   ],
   "source": [
    "df_nycsales.head()"
   ]
  },
  {
   "cell_type": "markdown",
   "metadata": {},
   "source": [
    "**Menampilkan 5 data terakhir**"
   ]
  },
  {
   "cell_type": "code",
   "execution_count": 159,
   "metadata": {},
   "outputs": [
    {
     "data": {
      "text/html": [
       "<div>\n",
       "<style scoped>\n",
       "    .dataframe tbody tr th:only-of-type {\n",
       "        vertical-align: middle;\n",
       "    }\n",
       "\n",
       "    .dataframe tbody tr th {\n",
       "        vertical-align: top;\n",
       "    }\n",
       "\n",
       "    .dataframe thead th {\n",
       "        text-align: right;\n",
       "    }\n",
       "</style>\n",
       "<table border=\"1\" class=\"dataframe\">\n",
       "  <thead>\n",
       "    <tr style=\"text-align: right;\">\n",
       "      <th></th>\n",
       "      <th>BOROUGH</th>\n",
       "      <th>NEIGHBORHOOD</th>\n",
       "      <th>BUILDING CLASS CATEGORY</th>\n",
       "      <th>TAX CLASS AT PRESENT</th>\n",
       "      <th>BLOCK</th>\n",
       "      <th>LOT</th>\n",
       "      <th>BUILDING CLASS AT PRESENT</th>\n",
       "      <th>ADDRESS</th>\n",
       "      <th>ZIP CODE</th>\n",
       "      <th>RESIDENTIAL UNITS</th>\n",
       "      <th>...</th>\n",
       "      <th>LAND SQUARE FEET</th>\n",
       "      <th>GROSS SQUARE FEET</th>\n",
       "      <th>YEAR BUILT</th>\n",
       "      <th>TAX CLASS AT TIME OF SALE</th>\n",
       "      <th>BUILDING CLASS AT TIME OF SALE</th>\n",
       "      <th>SALE PRICE</th>\n",
       "      <th>SALE YEAR</th>\n",
       "      <th>SALE MONTH</th>\n",
       "      <th>SALE DATE</th>\n",
       "      <th>SALE DAY</th>\n",
       "    </tr>\n",
       "  </thead>\n",
       "  <tbody>\n",
       "    <tr>\n",
       "      <th>31784</th>\n",
       "      <td>Staten Island</td>\n",
       "      <td>WOODROW</td>\n",
       "      <td>02 TWO FAMILY DWELLINGS</td>\n",
       "      <td>1</td>\n",
       "      <td>7267</td>\n",
       "      <td>249</td>\n",
       "      <td>B2</td>\n",
       "      <td>48 WHITE OAK LANE</td>\n",
       "      <td>10309.0</td>\n",
       "      <td>2</td>\n",
       "      <td>...</td>\n",
       "      <td>4350.0</td>\n",
       "      <td>2840.0</td>\n",
       "      <td>1996.0</td>\n",
       "      <td>1</td>\n",
       "      <td>B2</td>\n",
       "      <td>625000.0</td>\n",
       "      <td>2016</td>\n",
       "      <td>October</td>\n",
       "      <td>18</td>\n",
       "      <td>Tuesday</td>\n",
       "    </tr>\n",
       "    <tr>\n",
       "      <th>31785</th>\n",
       "      <td>Staten Island</td>\n",
       "      <td>WOODROW</td>\n",
       "      <td>02 TWO FAMILY DWELLINGS</td>\n",
       "      <td>1</td>\n",
       "      <td>7316</td>\n",
       "      <td>93</td>\n",
       "      <td>B2</td>\n",
       "      <td>125 DARNELL LANE</td>\n",
       "      <td>10309.0</td>\n",
       "      <td>2</td>\n",
       "      <td>...</td>\n",
       "      <td>3325.0</td>\n",
       "      <td>1300.0</td>\n",
       "      <td>1995.0</td>\n",
       "      <td>1</td>\n",
       "      <td>B2</td>\n",
       "      <td>509000.0</td>\n",
       "      <td>2016</td>\n",
       "      <td>October</td>\n",
       "      <td>31</td>\n",
       "      <td>Monday</td>\n",
       "    </tr>\n",
       "    <tr>\n",
       "      <th>31786</th>\n",
       "      <td>Staten Island</td>\n",
       "      <td>WOODROW</td>\n",
       "      <td>02 TWO FAMILY DWELLINGS</td>\n",
       "      <td>1</td>\n",
       "      <td>7349</td>\n",
       "      <td>34</td>\n",
       "      <td>B9</td>\n",
       "      <td>37 QUAIL LANE</td>\n",
       "      <td>10309.0</td>\n",
       "      <td>2</td>\n",
       "      <td>...</td>\n",
       "      <td>2400.0</td>\n",
       "      <td>2575.0</td>\n",
       "      <td>1998.0</td>\n",
       "      <td>1</td>\n",
       "      <td>B9</td>\n",
       "      <td>450000.0</td>\n",
       "      <td>2016</td>\n",
       "      <td>November</td>\n",
       "      <td>28</td>\n",
       "      <td>Monday</td>\n",
       "    </tr>\n",
       "    <tr>\n",
       "      <th>31787</th>\n",
       "      <td>Staten Island</td>\n",
       "      <td>WOODROW</td>\n",
       "      <td>02 TWO FAMILY DWELLINGS</td>\n",
       "      <td>1</td>\n",
       "      <td>7349</td>\n",
       "      <td>78</td>\n",
       "      <td>B9</td>\n",
       "      <td>32 PHEASANT LANE</td>\n",
       "      <td>10309.0</td>\n",
       "      <td>2</td>\n",
       "      <td>...</td>\n",
       "      <td>2498.0</td>\n",
       "      <td>2377.0</td>\n",
       "      <td>1998.0</td>\n",
       "      <td>1</td>\n",
       "      <td>B9</td>\n",
       "      <td>550000.0</td>\n",
       "      <td>2017</td>\n",
       "      <td>April</td>\n",
       "      <td>21</td>\n",
       "      <td>Friday</td>\n",
       "    </tr>\n",
       "    <tr>\n",
       "      <th>31788</th>\n",
       "      <td>Staten Island</td>\n",
       "      <td>WOODROW</td>\n",
       "      <td>02 TWO FAMILY DWELLINGS</td>\n",
       "      <td>1</td>\n",
       "      <td>7351</td>\n",
       "      <td>60</td>\n",
       "      <td>B2</td>\n",
       "      <td>49 PITNEY AVENUE</td>\n",
       "      <td>10309.0</td>\n",
       "      <td>2</td>\n",
       "      <td>...</td>\n",
       "      <td>4000.0</td>\n",
       "      <td>1496.0</td>\n",
       "      <td>1925.0</td>\n",
       "      <td>1</td>\n",
       "      <td>B2</td>\n",
       "      <td>460000.0</td>\n",
       "      <td>2017</td>\n",
       "      <td>July</td>\n",
       "      <td>5</td>\n",
       "      <td>Wednesday</td>\n",
       "    </tr>\n",
       "  </tbody>\n",
       "</table>\n",
       "<p>5 rows × 22 columns</p>\n",
       "</div>"
      ],
      "text/plain": [
       "             BOROUGH NEIGHBORHOOD  \\\n",
       "31784  Staten Island      WOODROW   \n",
       "31785  Staten Island      WOODROW   \n",
       "31786  Staten Island      WOODROW   \n",
       "31787  Staten Island      WOODROW   \n",
       "31788  Staten Island      WOODROW   \n",
       "\n",
       "                           BUILDING CLASS CATEGORY TAX CLASS AT PRESENT  \\\n",
       "31784  02 TWO FAMILY DWELLINGS                                        1   \n",
       "31785  02 TWO FAMILY DWELLINGS                                        1   \n",
       "31786  02 TWO FAMILY DWELLINGS                                        1   \n",
       "31787  02 TWO FAMILY DWELLINGS                                        1   \n",
       "31788  02 TWO FAMILY DWELLINGS                                        1   \n",
       "\n",
       "       BLOCK  LOT BUILDING CLASS AT PRESENT            ADDRESS ZIP CODE  \\\n",
       "31784   7267  249                        B2  48 WHITE OAK LANE  10309.0   \n",
       "31785   7316   93                        B2   125 DARNELL LANE  10309.0   \n",
       "31786   7349   34                        B9      37 QUAIL LANE  10309.0   \n",
       "31787   7349   78                        B9   32 PHEASANT LANE  10309.0   \n",
       "31788   7351   60                        B2   49 PITNEY AVENUE  10309.0   \n",
       "\n",
       "       RESIDENTIAL UNITS  ...  LAND SQUARE FEET  GROSS SQUARE FEET  \\\n",
       "31784                  2  ...            4350.0             2840.0   \n",
       "31785                  2  ...            3325.0             1300.0   \n",
       "31786                  2  ...            2400.0             2575.0   \n",
       "31787                  2  ...            2498.0             2377.0   \n",
       "31788                  2  ...            4000.0             1496.0   \n",
       "\n",
       "       YEAR BUILT  TAX CLASS AT TIME OF SALE BUILDING CLASS AT TIME OF SALE  \\\n",
       "31784      1996.0                          1                             B2   \n",
       "31785      1995.0                          1                             B2   \n",
       "31786      1998.0                          1                             B9   \n",
       "31787      1998.0                          1                             B9   \n",
       "31788      1925.0                          1                             B2   \n",
       "\n",
       "      SALE PRICE SALE YEAR  SALE MONTH  SALE DATE   SALE DAY  \n",
       "31784   625000.0      2016     October         18    Tuesday  \n",
       "31785   509000.0      2016     October         31     Monday  \n",
       "31786   450000.0      2016    November         28     Monday  \n",
       "31787   550000.0      2017       April         21     Friday  \n",
       "31788   460000.0      2017        July          5  Wednesday  \n",
       "\n",
       "[5 rows x 22 columns]"
      ]
     },
     "execution_count": 159,
     "metadata": {},
     "output_type": "execute_result"
    }
   ],
   "source": [
    "df_nycsales.tail()"
   ]
  },
  {
   "cell_type": "markdown",
   "metadata": {},
   "source": [
    "**Menghitung value dari kolom BOROUGH**"
   ]
  },
  {
   "cell_type": "code",
   "execution_count": 160,
   "metadata": {},
   "outputs": [
    {
     "data": {
      "text/plain": [
       "Queens           10523\n",
       "Brooklyn         10001\n",
       "Staten Island     4176\n",
       "Manhattan         3629\n",
       "Bronx             3460\n",
       "Name: BOROUGH, dtype: int64"
      ]
     },
     "execution_count": 160,
     "metadata": {},
     "output_type": "execute_result"
    }
   ],
   "source": [
    "df_nycsales['BOROUGH'].value_counts()"
   ]
  },
  {
   "cell_type": "markdown",
   "metadata": {},
   "source": [
    "**Membuat histogram dari kolom BOROUGH**"
   ]
  },
  {
   "cell_type": "code",
   "execution_count": 161,
   "metadata": {},
   "outputs": [
    {
     "data": {
      "image/png": "[encoded data removed]",
      "text/plain": [
       "<Figure size 432x288 with 1 Axes>"
      ]
     },
     "metadata": {
      "needs_background": "light"
     },
     "output_type": "display_data"
    }
   ],
   "source": [
    "df_nycsales['BOROUGH'].value_counts().plot(kind='bar')\n",
    "plt.title('Histogram from Borough Columns', fontsize=14)\n",
    "plt.xlabel('Borough', fontsize=14)\n",
    "plt.ylabel('Value', fontsize=14)\n",
    "plt.show()"
   ]
  },
  {
   "cell_type": "markdown",
   "metadata": {},
   "source": [
    "**Menghitung value dari kolom NEIGHBORHOOD**"
   ]
  },
  {
   "cell_type": "code",
   "execution_count": 162,
   "metadata": {},
   "outputs": [
    {
     "data": {
      "text/plain": [
       "FLUSHING-NORTH              1513\n",
       "BEDFORD STUYVESANT           695\n",
       "EAST NEW YORK                685\n",
       "FLATBUSH-EAST                612\n",
       "CANARSIE                     585\n",
       "                            ... \n",
       "FLATLANDS                    182\n",
       "MASPETH                      179\n",
       "OCEAN PARKWAY-SOUTH          176\n",
       "KIPS BAY                     174\n",
       "SCHUYLERVILLE/PELHAM BAY     170\n",
       "Name: NEIGHBORHOOD, Length: 70, dtype: int64"
      ]
     },
     "execution_count": 162,
     "metadata": {},
     "output_type": "execute_result"
    }
   ],
   "source": [
    "df_nycsales['NEIGHBORHOOD'].value_counts().head(70)"
   ]
  },
  {
   "cell_type": "markdown",
   "metadata": {},
   "source": [
    "**Menampilkan rangkuman pengecekan missing values**"
   ]
  },
  {
   "cell_type": "code",
   "execution_count": 163,
   "metadata": {},
   "outputs": [
    {
     "data": {
      "text/plain": [
       "BOROUGH                           0\n",
       "NEIGHBORHOOD                      0\n",
       "BUILDING CLASS CATEGORY           0\n",
       "TAX CLASS AT PRESENT              0\n",
       "BLOCK                             0\n",
       "LOT                               0\n",
       "BUILDING CLASS AT PRESENT         0\n",
       "ADDRESS                           0\n",
       "ZIP CODE                          0\n",
       "RESIDENTIAL UNITS                 0\n",
       "COMMERCIAL UNITS                  0\n",
       "TOTAL UNITS                       0\n",
       "LAND SQUARE FEET                  0\n",
       "GROSS SQUARE FEET                 0\n",
       "YEAR BUILT                        0\n",
       "TAX CLASS AT TIME OF SALE         0\n",
       "BUILDING CLASS AT TIME OF SALE    0\n",
       "SALE PRICE                        0\n",
       "SALE YEAR                         0\n",
       "SALE MONTH                        0\n",
       "SALE DATE                         0\n",
       "SALE DAY                          0\n",
       "dtype: int64"
      ]
     },
     "execution_count": 163,
     "metadata": {},
     "output_type": "execute_result"
    }
   ],
   "source": [
    "df_nycsales.isnull().sum()"
   ]
  },
  {
   "cell_type": "markdown",
   "metadata": {},
   "source": [
    "**Menampilkan informasi tentang dataset**"
   ]
  },
  {
   "cell_type": "code",
   "execution_count": 164,
   "metadata": {},
   "outputs": [
    {
     "name": "stdout",
     "output_type": "stream",
     "text": [
      "<class 'pandas.core.frame.DataFrame'>\n",
      "Int64Index: 31789 entries, 0 to 31788\n",
      "Data columns (total 22 columns):\n",
      " #   Column                          Non-Null Count  Dtype  \n",
      "---  ------                          --------------  -----  \n",
      " 0   BOROUGH                         31789 non-null  object \n",
      " 1   NEIGHBORHOOD                    31789 non-null  object \n",
      " 2   BUILDING CLASS CATEGORY         31789 non-null  object \n",
      " 3   TAX CLASS AT PRESENT            31789 non-null  object \n",
      " 4   BLOCK                           31789 non-null  int64  \n",
      " 5   LOT                             31789 non-null  int64  \n",
      " 6   BUILDING CLASS AT PRESENT       31789 non-null  object \n",
      " 7   ADDRESS                         31789 non-null  object \n",
      " 8   ZIP CODE                        31789 non-null  object \n",
      " 9   RESIDENTIAL UNITS               31789 non-null  int64  \n",
      " 10  COMMERCIAL UNITS                31789 non-null  int64  \n",
      " 11  TOTAL UNITS                     31789 non-null  float64\n",
      " 12  LAND SQUARE FEET                31789 non-null  float64\n",
      " 13  GROSS SQUARE FEET               31789 non-null  float64\n",
      " 14  YEAR BUILT                      31789 non-null  object \n",
      " 15  TAX CLASS AT TIME OF SALE       31789 non-null  object \n",
      " 16  BUILDING CLASS AT TIME OF SALE  31789 non-null  object \n",
      " 17  SALE PRICE                      31789 non-null  float64\n",
      " 18  SALE YEAR                       31789 non-null  int64  \n",
      " 19  SALE MONTH                      31789 non-null  object \n",
      " 20  SALE DATE                       31789 non-null  int64  \n",
      " 21  SALE DAY                        31789 non-null  object \n",
      "dtypes: float64(4), int64(6), object(12)\n",
      "memory usage: 5.6+ MB\n"
     ]
    }
   ],
   "source": [
    "df_nycsales.info()"
   ]
  },
  {
   "cell_type": "markdown",
   "metadata": {},
   "source": [
    "### Kesimpulan Analisis:\n",
    "Di tahap preprocessing, berikut terdapat beberapa hal yang telah saya lakukan yaitu:\n",
    "1. Menghapus kolom-kolom yang tidak diperlukan\n",
    "2. Mengganti nilai missing values pada kolom kategorik dengan nilai modusnya dan untuk kolom numerik (kecuali SALE PRICE) dengan nilai median.\n",
    "3. Menghapus baris duplikat pada dataset\n",
    "4. Mengubah tipe data setiap kolom sesuai dengan tipe yang seharusnya\n",
    "5. Mengganti nilai pada kolom 'BOROUGH' dengan nilai yang seharusnya dan menjadi tipe String\n",
    "6. Modifikasi kolom 'SALE DATE' menjadi tipe datetime serta menambahkan kolom year, month, dan date.\n",
    "7. Menghapus outliers."
   ]
  },
  {
   "cell_type": "markdown",
   "metadata": {},
   "source": [
    "# C. Measure of Central Tedency\n",
    "***\n",
    "## 1. Measure of Central Tedency: Mean\n",
    "Di bagian ini, saya akan mencari mean sesuai dengan pertanyaan yang ada di bagian Question.<br>\n",
    "#### **Question**: <br>\n",
    "1. Berapa nilai rata-rata dari harga jual (SALE PRICE) di wilayah Brooklyn?\n",
    "2. Berapa nilai rata-rata dari luas total semua lantai bangunan (GROSS SQUARE FEET) dan luas tanah properti (LAND SQUARE FEET) di wilayah Brooklyn?"
   ]
  },
  {
   "cell_type": "markdown",
   "metadata": {},
   "source": [
    "#### **Answer Question 1**"
   ]
  },
  {
   "cell_type": "markdown",
   "metadata": {},
   "source": [
    "**Mean dari harga jual (SALE PRICE) di wilayah Brooklyn**"
   ]
  },
  {
   "cell_type": "code",
   "execution_count": 165,
   "metadata": {},
   "outputs": [],
   "source": [
    "avg1 = df_nycsales[df_nycsales['BOROUGH']=='Brooklyn']['SALE PRICE'].mean()"
   ]
  },
  {
   "cell_type": "markdown",
   "metadata": {},
   "source": [
    "**Mencetak informasi nilai mean dari SALE PRICE**"
   ]
  },
  {
   "cell_type": "code",
   "execution_count": 166,
   "metadata": {},
   "outputs": [
    {
     "name": "stdout",
     "output_type": "stream",
     "text": [
      "Mean dari harga jual (SALE PRICE) di wilayah Brooklyn: 474105.62593740626\n"
     ]
    }
   ],
   "source": [
    "print('Mean dari harga jual (SALE PRICE) di wilayah Brooklyn:', avg1)"
   ]
  },
  {
   "cell_type": "markdown",
   "metadata": {},
   "source": [
    "#### **Answer Question 2**"
   ]
  },
  {
   "cell_type": "markdown",
   "metadata": {},
   "source": [
    "**Mean dari luas total semua lantai bangunan (GROSS SQUARE FEET) di wilayah Brooklyn**"
   ]
  },
  {
   "cell_type": "code",
   "execution_count": 167,
   "metadata": {},
   "outputs": [
    {
     "name": "stdout",
     "output_type": "stream",
     "text": [
      "Mean dari luas total semua lantai bangunan (GROSS SQUARE FEET) di wilayah Brooklyn: 2096.006299370063\n"
     ]
    }
   ],
   "source": [
    "avg2 = df_nycsales[df_nycsales['BOROUGH']=='Brooklyn']['GROSS SQUARE FEET'].mean()\n",
    "print('Mean dari luas total semua lantai bangunan (GROSS SQUARE FEET) di wilayah Brooklyn:', avg2)"
   ]
  },
  {
   "cell_type": "markdown",
   "metadata": {},
   "source": [
    "**Mean dari luas tanah properti (LAND SQUARE FEET) di wilayah Brooklyn**"
   ]
  },
  {
   "cell_type": "code",
   "execution_count": 168,
   "metadata": {},
   "outputs": [
    {
     "name": "stdout",
     "output_type": "stream",
     "text": [
      "Mean dari luas tanah properti (LAND SQUARE FEET) di wilayah Brooklyn: 2222.5992400759924\n"
     ]
    }
   ],
   "source": [
    "avg3 = df_nycsales[df_nycsales['BOROUGH']=='Brooklyn']['LAND SQUARE FEET'].mean()\n",
    "print('Mean dari luas tanah properti (LAND SQUARE FEET) di wilayah Brooklyn:', avg3)"
   ]
  },
  {
   "cell_type": "markdown",
   "metadata": {},
   "source": [
    "**Mencetak informasi nilai mean dari GROSS SQUARE FEET dan LAND SQUARE FEET**"
   ]
  },
  {
   "cell_type": "code",
   "execution_count": 169,
   "metadata": {},
   "outputs": [
    {
     "name": "stdout",
     "output_type": "stream",
     "text": [
      "Mean dari luas total semua lantai bangunan (GROSS SQUARE FEET) di wilayah Brooklyn: 2096.006299370063\n",
      "Mean dari luas tanah properti (LAND SQUARE FEET) di wilayah Brooklyn: 2222.5992400759924\n"
     ]
    }
   ],
   "source": [
    "print('Mean dari luas total semua lantai bangunan (GROSS SQUARE FEET) di wilayah Brooklyn:', avg2)\n",
    "print('Mean dari luas tanah properti (LAND SQUARE FEET) di wilayah Brooklyn:', avg3)"
   ]
  },
  {
   "cell_type": "markdown",
   "metadata": {},
   "source": [
    "### Kesimpulan/Analisis Jawaban:\n",
    "Dari hasil analisis di atas didapatkan rata-rata dari harga jual (SALE PRICE) di wilayah Brooklyn adalah 474105.62593740626. \n",
    "Lalu rata-rata dari luas total semua lantai bangunan (GROSS SQUARE FEET) di wilayah Brooklyn adalah 2096.006299370063. \n",
    "Dan rata-rata dari luas tanah properti (LAND SQUARE FEET) di wilayah Brooklyn adalah 2222.5992400759924."
   ]
  },
  {
   "cell_type": "markdown",
   "metadata": {},
   "source": [
    "## 2. Measure of Central Tedency: Median\n",
    "Di bagian ini, saya akan mencari median sesuai dengan pertanyaan yang ada di bagian Question.<br>\n",
    "#### **Question:**\n",
    "1. Berapa nilai median dari harga jual (SALE PRICE) di wilayah Brooklyn?\n",
    "2. Berapa nilai median dari luas total semua lantai bangunan (GROSS SQUARE FEET) dan luas tanah properti (LAND SQUARE FEET) di wilayah Brooklyn?"
   ]
  },
  {
   "cell_type": "markdown",
   "metadata": {},
   "source": [
    "#### **Answer Question 1**"
   ]
  },
  {
   "cell_type": "markdown",
   "metadata": {},
   "source": [
    "**Median dari harga jual (SALE PRICE) di wilayah Brooklyn**"
   ]
  },
  {
   "cell_type": "code",
   "execution_count": 170,
   "metadata": {},
   "outputs": [],
   "source": [
    "med1 = df_nycsales[df_nycsales['BOROUGH']=='Brooklyn']['SALE PRICE'].median()"
   ]
  },
  {
   "cell_type": "markdown",
   "metadata": {},
   "source": [
    "**Mencetak informasi nilai median dari SALE PRICE**"
   ]
  },
  {
   "cell_type": "code",
   "execution_count": 171,
   "metadata": {},
   "outputs": [
    {
     "name": "stdout",
     "output_type": "stream",
     "text": [
      "Median dari harga jual (SALE PRICE) di wilayah Brooklyn: 400000.0\n"
     ]
    }
   ],
   "source": [
    "print('Median dari harga jual (SALE PRICE) di wilayah Brooklyn:', med1)"
   ]
  },
  {
   "cell_type": "markdown",
   "metadata": {},
   "source": [
    "#### **Answer Question 2**"
   ]
  },
  {
   "cell_type": "markdown",
   "metadata": {},
   "source": [
    "**Median dari luas total semua lantai bangunan (GROSS SQUARE FEET) di wilayah Brooklyn**"
   ]
  },
  {
   "cell_type": "code",
   "execution_count": 172,
   "metadata": {},
   "outputs": [],
   "source": [
    "med2 = df_nycsales[df_nycsales['BOROUGH']=='Brooklyn']['GROSS SQUARE FEET'].median()"
   ]
  },
  {
   "cell_type": "markdown",
   "metadata": {},
   "source": [
    "**Median dari luas tanah properti (LAND SQUARE FEET) di wilayah Brooklyn**"
   ]
  },
  {
   "cell_type": "code",
   "execution_count": 173,
   "metadata": {},
   "outputs": [],
   "source": [
    "med3 = df_nycsales[df_nycsales['BOROUGH']=='Brooklyn']['LAND SQUARE FEET'].median()"
   ]
  },
  {
   "cell_type": "markdown",
   "metadata": {},
   "source": [
    "**Mencetak informasi nilai median dari GROSS SQUARE FEET dan LAND SQUARE FEET**"
   ]
  },
  {
   "cell_type": "code",
   "execution_count": 174,
   "metadata": {},
   "outputs": [
    {
     "name": "stdout",
     "output_type": "stream",
     "text": [
      "Median dari luas total semua lantai bangunan (GROSS SQUARE FEET) di wilayah Brooklyn: 2040.0\n",
      "Median dari luas tanah properti (LAND SQUARE FEET) di wilayah Brooklyn: 2000.0\n"
     ]
    }
   ],
   "source": [
    "print('Median dari luas total semua lantai bangunan (GROSS SQUARE FEET) di wilayah Brooklyn:', med2)\n",
    "print('Median dari luas tanah properti (LAND SQUARE FEET) di wilayah Brooklyn:', med3)"
   ]
  },
  {
   "cell_type": "markdown",
   "metadata": {},
   "source": [
    "### Kesimpulan/Analisis Jawaban:\n",
    "Dari hasil analisis di atas didapatkan median dari harga jual (SALE PRICE) di wilayah Brooklyn adalah 400000.0. \n",
    "Lalu median dari luas total semua lantai bangunan (GROSS SQUARE FEET) di wilayah Brooklyn adalah 2040.0. \n",
    "Dan median dari luas tanah properti (LAND SQUARE FEET) di wilayah Brooklyn adalah 2000.0."
   ]
  },
  {
   "cell_type": "markdown",
   "metadata": {},
   "source": [
    "## 3. Measure of Central Tedency: Modus\n",
    "Di bagian ini, saya akan mencari modus sesuai dengan pertanyaan yang ada di bagian Question.<br>\n",
    "#### **Question:**\n",
    "1. Berapa nilai modus dari tahun properti dibangun (YEAR BUILT) di wilayah Brooklyn?\n",
    "2. Berapa nilai modus dari luas total semua lantai bangunan (GROSS SQUARE FEET) dan luas tanah properti (LAND SQUARE FEET) di wilayah Brooklyn?"
   ]
  },
  {
   "cell_type": "markdown",
   "metadata": {},
   "source": [
    "#### **Answer Question 1**"
   ]
  },
  {
   "cell_type": "markdown",
   "metadata": {},
   "source": [
    "**Membuat dataframe baru yang hanya terdapat kolom Brooklyn BOROUGH dan YEAR BUILT**"
   ]
  },
  {
   "cell_type": "code",
   "execution_count": 175,
   "metadata": {},
   "outputs": [],
   "source": [
    "df_yb = df_nycsales[df_nycsales['BOROUGH']=='Brooklyn']['YEAR BUILT']\n",
    "modus_yb = scistats.mode(df_yb)"
   ]
  },
  {
   "cell_type": "markdown",
   "metadata": {},
   "source": [
    "**Mencetak informasi nilai modus dan jumlah munculnya modus dari Brooklyn BOROUGH dan YEAR BUILT**"
   ]
  },
  {
   "cell_type": "code",
   "execution_count": 176,
   "metadata": {},
   "outputs": [
    {
     "name": "stdout",
     "output_type": "stream",
     "text": [
      "['1920.0']\n",
      "[1354]\n"
     ]
    }
   ],
   "source": [
    "print(modus_yb.mode)\n",
    "print(modus_yb.count)"
   ]
  },
  {
   "cell_type": "markdown",
   "metadata": {},
   "source": [
    "#### **Answer Question 2**"
   ]
  },
  {
   "cell_type": "markdown",
   "metadata": {},
   "source": [
    "**Membuat dataframe baru yang hanya terdapat kolom Brooklyn BOROUGH dan GROSS SQUARE FEET**"
   ]
  },
  {
   "cell_type": "code",
   "execution_count": 177,
   "metadata": {},
   "outputs": [],
   "source": [
    "df_gsf = df_nycsales[df_nycsales['BOROUGH']=='Brooklyn']['GROSS SQUARE FEET']\n",
    "modus_gsf = scistats.mode(df_gsf)"
   ]
  },
  {
   "cell_type": "markdown",
   "metadata": {},
   "source": [
    "**Mencetak informasi nilai modus dan jumlah munculnya modus dari Brooklyn BOROUGH dan GROSS SQUARE FEET**"
   ]
  },
  {
   "cell_type": "code",
   "execution_count": 178,
   "metadata": {},
   "outputs": [
    {
     "name": "stdout",
     "output_type": "stream",
     "text": [
      "[2400.]\n",
      "[145]\n"
     ]
    }
   ],
   "source": [
    "print(modus_gsf.mode)\n",
    "print(modus_gsf.count)"
   ]
  },
  {
   "cell_type": "markdown",
   "metadata": {},
   "source": [
    "**Membuat dataframe baru yang hanya terdapat kolom Brooklyn BOROUGH dan LAND SQUARE FEET**"
   ]
  },
  {
   "cell_type": "code",
   "execution_count": 179,
   "metadata": {},
   "outputs": [],
   "source": [
    "df_lsf = df_nycsales[df_nycsales['BOROUGH']=='Brooklyn']['LAND SQUARE FEET']\n",
    "modus_lsf = scistats.mode(df_lsf)"
   ]
  },
  {
   "cell_type": "markdown",
   "metadata": {},
   "source": [
    "**Mencetak informasi nilai modus dan jumlah munculnya modus dari Brooklyn BOROUGH dan LAND SQUARE FEET**"
   ]
  },
  {
   "cell_type": "code",
   "execution_count": 180,
   "metadata": {},
   "outputs": [
    {
     "name": "stdout",
     "output_type": "stream",
     "text": [
      "[2000.]\n",
      "[1846]\n"
     ]
    }
   ],
   "source": [
    "print(modus_lsf.mode)\n",
    "print(modus_lsf.count)"
   ]
  },
  {
   "cell_type": "markdown",
   "metadata": {},
   "source": [
    "### Kesimpulan/Analisis Jawaban:\n",
    "Dari hasil analisis di atas didapatkan modus dari tahun properti dibangun (YEAR BUILT) di wilayah Brooklyn adalah 1920 dengan kemunculan sebanyak 1354. \n",
    "Lalu modus dari luas total semua lantai bangunan (GROSS SQUARE FEET) di wilayah Brooklyn adalah 2400 dengan kemunculan sebanyak 145. \n",
    "Dan modus dari luas tanah properti (LAND SQUARE FEET) di wilayah Brooklyn adalah 2000 dengan kemunculan sebanyak 1846."
   ]
  },
  {
   "cell_type": "markdown",
   "metadata": {},
   "source": [
    "# E. Measured of Spread\n",
    "***\n",
    "## 1. Measured of Spread: Range\n",
    "Di bagian ini, saya akan mencari range sesuai dengan pertanyaan yang ada di bagian Question.<br>\n",
    "#### **Question:** <br>\n",
    "1. Berapakah range/rentang data dari harga jual (SALE PRICE) di wilayah Brooklyn?\n",
    "2. Berapa range/rentang data dari luas total semua lantai bangunan (GROSS SQUARE FEET) di wilayah Brooklyn?"
   ]
  },
  {
   "cell_type": "markdown",
   "metadata": {},
   "source": [
    "#### **Answer Question 1**"
   ]
  },
  {
   "cell_type": "markdown",
   "metadata": {},
   "source": [
    "**Mencari nilai maximum dan minimum lalu mencari range dari harga jual (SALE PRICE) di wilayah Brooklyn**"
   ]
  },
  {
   "cell_type": "code",
   "execution_count": 181,
   "metadata": {},
   "outputs": [],
   "source": [
    "df_max = df_nycsales[df_nycsales['BOROUGH']=='Brooklyn']['SALE PRICE'].max()\n",
    "df_min = df_nycsales[df_nycsales['BOROUGH']=='Brooklyn']['SALE PRICE'].min()\n",
    "df_range = df_max - df_min"
   ]
  },
  {
   "cell_type": "markdown",
   "metadata": {},
   "source": [
    "**Mencetak informasi nilai maximum, minimum dan range dari SALE PRICE**"
   ]
  },
  {
   "cell_type": "code",
   "execution_count": 182,
   "metadata": {},
   "outputs": [
    {
     "name": "stdout",
     "output_type": "stream",
     "text": [
      "Nilai harga jual tertinggi di wilayah Brooklyn adalah 2100000.0\n",
      "Nilai harga jual terendah di wilayah Brooklyn adalah 0.0\n",
      "Range antara harga jual tertinggi dan terendah di wilayah Brooklyn adalah 2100000.0\n"
     ]
    }
   ],
   "source": [
    "print(f\"Nilai harga jual tertinggi di wilayah Brooklyn adalah\", df_max)\n",
    "print(f\"Nilai harga jual terendah di wilayah Brooklyn adalah\", df_min)\n",
    "print(f\"Range antara harga jual tertinggi dan terendah di wilayah Brooklyn adalah\", df_range)"
   ]
  },
  {
   "cell_type": "markdown",
   "metadata": {},
   "source": [
    "#### **Answer Question 2**"
   ]
  },
  {
   "cell_type": "markdown",
   "metadata": {},
   "source": [
    "**Mencari nilai maximum dan minimum lalu mencari range dari luas total semua lantai bangunan (GROSS SQUARE FEET) di wilayah Brooklyn**"
   ]
  },
  {
   "cell_type": "code",
   "execution_count": 183,
   "metadata": {},
   "outputs": [],
   "source": [
    "df_max_gsf = df_nycsales[df_nycsales['BOROUGH']=='Brooklyn']['GROSS SQUARE FEET'].max()\n",
    "df_min_gsf = df_nycsales[df_nycsales['BOROUGH']=='Brooklyn']['GROSS SQUARE FEET'].min()\n",
    "df_range_gsf = df_max_gsf - df_min_gsf"
   ]
  },
  {
   "cell_type": "markdown",
   "metadata": {},
   "source": [
    "**Mencetak informasi nilai maximum, minimum dan range dari GROSS SQUARE FEET**"
   ]
  },
  {
   "cell_type": "code",
   "execution_count": 184,
   "metadata": {},
   "outputs": [
    {
     "name": "stdout",
     "output_type": "stream",
     "text": [
      "Luas total semua lantai bangunan tertinggi di wilayah Brooklyn adalah 4048.0\n",
      "Luas total semua lantai bangunan terendah di wilayah Brooklyn adalah 0.0\n",
      "Range antara Luas total semua lantai bangunan tertinggi dan terendah di wilayah Brooklyn adalah 4048.0\n"
     ]
    }
   ],
   "source": [
    "print(f\"Luas total semua lantai bangunan tertinggi di wilayah Brooklyn adalah\", df_max_gsf)\n",
    "print(f\"Luas total semua lantai bangunan terendah di wilayah Brooklyn adalah\", df_min_gsf)\n",
    "print(f\"Range antara Luas total semua lantai bangunan tertinggi dan terendah di wilayah Brooklyn adalah\", df_range_gsf)"
   ]
  },
  {
   "cell_type": "markdown",
   "metadata": {},
   "source": [
    "### Kesimpulan/Analisis Jawaban:\n",
    "Dari hasil analisis di atas didapatkan range/perbedaan antara harga jual (SALE PRICE) tertinggi dan terendah di wilayah Brooklyn adalah 2100000.0.  \n",
    "Dan range/perbedaan antara luas total semua lantai bangunan (GROSS SQUARE FEET) tertinggi dan terendah di wilayah Brooklyn adalah 4048.0."
   ]
  },
  {
   "cell_type": "markdown",
   "metadata": {},
   "source": [
    "## 2. Measured of Spread: Variance\n",
    "Di bagian ini, saya akan mencari variance sesuai dengan pertanyaan yang ada di bagian Question.<br>\n",
    "#### **Question:**\n",
    "1. Berapa nilai variance dari harga jual (SALE PRICE) di wilayah Brooklyn?\n",
    "2. Berapa nilai variance dari luas total semua lantai bangunan (GROSS SQUARE FEET) dan luas tanah properti (LAND SQUARE FEET) di wilayah Brooklyn?"
   ]
  },
  {
   "cell_type": "markdown",
   "metadata": {},
   "source": [
    "#### **Answer Question 1**"
   ]
  },
  {
   "cell_type": "markdown",
   "metadata": {},
   "source": [
    "**Variance dari harga jual (SALE PRICE) di wilayah Brooklyn**"
   ]
  },
  {
   "cell_type": "code",
   "execution_count": 185,
   "metadata": {},
   "outputs": [],
   "source": [
    "var1 = df_nycsales[df_nycsales['BOROUGH']=='Brooklyn']['SALE PRICE'].var()"
   ]
  },
  {
   "cell_type": "markdown",
   "metadata": {},
   "source": [
    "**Mencetak informasi nilai variance dari SALE PRICE**"
   ]
  },
  {
   "cell_type": "code",
   "execution_count": 186,
   "metadata": {},
   "outputs": [
    {
     "name": "stdout",
     "output_type": "stream",
     "text": [
      "Variance dari harga jual (SALE PRICE) di wilayah Brooklyn: 265398564019.92996\n"
     ]
    }
   ],
   "source": [
    "print('Variance dari harga jual (SALE PRICE) di wilayah Brooklyn:', var1)"
   ]
  },
  {
   "cell_type": "markdown",
   "metadata": {},
   "source": [
    "#### **Answer Question 2**"
   ]
  },
  {
   "cell_type": "markdown",
   "metadata": {},
   "source": [
    "**Variance dari luas total semua lantai bangunan (GROSS SQUARE FEET) di wilayah Brooklyn**"
   ]
  },
  {
   "cell_type": "code",
   "execution_count": 187,
   "metadata": {},
   "outputs": [],
   "source": [
    "var2 = df_nycsales[df_nycsales['BOROUGH']=='Brooklyn']['GROSS SQUARE FEET'].var()"
   ]
  },
  {
   "cell_type": "markdown",
   "metadata": {},
   "source": [
    "**Variance dari luas tanah properti (LAND SQUARE FEET) di wilayah Brooklyn**"
   ]
  },
  {
   "cell_type": "code",
   "execution_count": 188,
   "metadata": {},
   "outputs": [],
   "source": [
    "var3 = df_nycsales[df_nycsales['BOROUGH']=='Brooklyn']['LAND SQUARE FEET'].var()"
   ]
  },
  {
   "cell_type": "markdown",
   "metadata": {},
   "source": [
    "**Mencetak informasi nilai variance dari GROSS SQUARE FEET dan LAND SQUARE FEET**"
   ]
  },
  {
   "cell_type": "code",
   "execution_count": 189,
   "metadata": {},
   "outputs": [
    {
     "name": "stdout",
     "output_type": "stream",
     "text": [
      "Variance dari luas total semua lantai bangunan (GROSS SQUARE FEET) di wilayah Brooklyn: 536218.190660314\n",
      "Variance dari luas tanah properti (LAND SQUARE FEET) di wilayah Brooklyn: 413281.1535754159\n"
     ]
    }
   ],
   "source": [
    "print('Variance dari luas total semua lantai bangunan (GROSS SQUARE FEET) di wilayah Brooklyn:', var2)\n",
    "print('Variance dari luas tanah properti (LAND SQUARE FEET) di wilayah Brooklyn:', var3)"
   ]
  },
  {
   "cell_type": "markdown",
   "metadata": {},
   "source": [
    "### Kesimpulan/Analisis Jawaban:\n",
    "Dari hasil analisis di atas didapatkan variance dari harga jual (SALE PRICE) di wilayah Brooklyn adalah 265398564019.92996. \n",
    "Lalu variance dari luas total semua lantai bangunan (GROSS SQUARE FEET) di wilayah Brooklyn adalah 536218.190660314. \n",
    "Dan variance dari luas tanah properti (LAND SQUARE FEET) di wilayah Brooklyn adalah 413281.1535754159."
   ]
  },
  {
   "cell_type": "markdown",
   "metadata": {},
   "source": [
    "## 3. Measured of Spread: Standard Deviation\n",
    "Di bagian ini, saya akan mencari standard deviation sesuai dengan pertanyaan yang ada di bagian Question.<br>\n",
    "#### **Question:** <br>\n",
    "1. Berapa nilai standard deviation dari harga jual (SALE PRICE) di wilayah Brooklyn?\n",
    "2. Berapa nilai standard deviation dari luas total semua lantai bangunan (GROSS SQUARE FEET) dan luas tanah properti (LAND SQUARE FEET) di wilayah Brooklyn?"
   ]
  },
  {
   "cell_type": "markdown",
   "metadata": {},
   "source": [
    "#### **Answer Question 1**"
   ]
  },
  {
   "cell_type": "markdown",
   "metadata": {},
   "source": [
    "**Standard deviation dari harga jual (SALE PRICE) di wilayah Brooklyn**"
   ]
  },
  {
   "cell_type": "code",
   "execution_count": 190,
   "metadata": {},
   "outputs": [],
   "source": [
    "std1 = df_nycsales[df_nycsales['BOROUGH']=='Brooklyn']['SALE PRICE'].std()"
   ]
  },
  {
   "cell_type": "markdown",
   "metadata": {},
   "source": [
    "**Mencetak informasi nilai standard deviation dari SALE PRICE**"
   ]
  },
  {
   "cell_type": "code",
   "execution_count": 191,
   "metadata": {},
   "outputs": [
    {
     "name": "stdout",
     "output_type": "stream",
     "text": [
      "Standard deviation dari harga jual (SALE PRICE) di wilayah Brooklyn: 515168.48119807366\n"
     ]
    }
   ],
   "source": [
    "print('Standard deviation dari harga jual (SALE PRICE) di wilayah Brooklyn:', std1)"
   ]
  },
  {
   "cell_type": "markdown",
   "metadata": {},
   "source": [
    "#### **Answer Quesntion 2**"
   ]
  },
  {
   "cell_type": "markdown",
   "metadata": {},
   "source": [
    "**Standard deviation dari luas total semua lantai bangunan (GROSS SQUARE FEET) di wilayah Brooklyn**"
   ]
  },
  {
   "cell_type": "code",
   "execution_count": 192,
   "metadata": {},
   "outputs": [],
   "source": [
    "std2 = df_nycsales[df_nycsales['BOROUGH']=='Brooklyn']['GROSS SQUARE FEET'].std()"
   ]
  },
  {
   "cell_type": "markdown",
   "metadata": {},
   "source": [
    "**Standard deviation dari luas tanah properti (LAND SQUARE FEET) di wilayah Brooklyn**"
   ]
  },
  {
   "cell_type": "code",
   "execution_count": 193,
   "metadata": {},
   "outputs": [],
   "source": [
    "std3 = df_nycsales[df_nycsales['BOROUGH']=='Brooklyn']['LAND SQUARE FEET'].std()"
   ]
  },
  {
   "cell_type": "markdown",
   "metadata": {},
   "source": [
    "**Mencetak informasi nilai standard deviation dari GROSS SQUARE FEET dan LAND SQUARE FEET**"
   ]
  },
  {
   "cell_type": "code",
   "execution_count": 194,
   "metadata": {},
   "outputs": [
    {
     "name": "stdout",
     "output_type": "stream",
     "text": [
      "Standard deviation dari luas total semua lantai bangunan (GROSS SQUARE FEET) di wilayah Brooklyn: 732.2692064127195\n",
      "Standard deviation dari luas tanah properti (LAND SQUARE FEET) di wilayah Brooklyn: 642.8694685357331\n"
     ]
    }
   ],
   "source": [
    "print('Standard deviation dari luas total semua lantai bangunan (GROSS SQUARE FEET) di wilayah Brooklyn:', std2)\n",
    "print('Standard deviation dari luas tanah properti (LAND SQUARE FEET) di wilayah Brooklyn:', std3)"
   ]
  },
  {
   "cell_type": "markdown",
   "metadata": {},
   "source": [
    "### Kesimpulan/Analisis Jawaban:\n",
    "Dari hasil analisis di atas didapatkan standard deviation dari harga jual (SALE PRICE) di wilayah Brooklyn adalah 515168.48119807366. \n",
    "Lalu standard deviation dari luas total semua lantai bangunan (GROSS SQUARE FEET) di wilayah Brooklyn adalah 732.2692064127195. \n",
    "Dan standard deviation dari luas tanah properti (LAND SQUARE FEET) di wilayah Brooklyn adalah 642.8694685357331."
   ]
  },
  {
   "cell_type": "markdown",
   "metadata": {},
   "source": [
    "## 4. Measured of Spread: Probability Distribution\n",
    "Di bagian ini, saya akan mencari probability distribution dan membuat kesimpulannya sesuai dengan pertanyaan yang ada di bagian Question.<br>\n",
    "#### **Question:** <br>\n",
    "1. Bagaimana probability distribution dari harga jual (SALE PRICE) di wilayah Staten Island?\n",
    "2. Bagaimana probability distribution dari harga jual (SALE PRICE) di daerah MASPETH?"
   ]
  },
  {
   "cell_type": "markdown",
   "metadata": {},
   "source": [
    "#### **Answer Question 1**"
   ]
  },
  {
   "cell_type": "markdown",
   "metadata": {},
   "source": [
    "**Membuat dataframe baru berdasarkan wilayah Staten Island**"
   ]
  },
  {
   "cell_type": "code",
   "execution_count": 195,
   "metadata": {},
   "outputs": [],
   "source": [
    "df_pd_state = df_nycsales[df_nycsales['BOROUGH'] == 'Staten Island']"
   ]
  },
  {
   "cell_type": "markdown",
   "metadata": {},
   "source": [
    "**Menghapus beberapa kolom karena hanya membutuhkan kolom BOROUGH dan SALE PRICE**"
   ]
  },
  {
   "cell_type": "code",
   "execution_count": 196,
   "metadata": {},
   "outputs": [],
   "source": [
    "df_state = df_pd_state.drop(['YEAR BUILT', 'TOTAL UNITS', 'NEIGHBORHOOD', 'LOT', 'BLOCK','ZIP CODE',\n",
    "                            'RESIDENTIAL UNITS','COMMERCIAL UNITS',\n",
    "                            'LAND SQUARE FEET','GROSS SQUARE FEET','BUILDING CLASS CATEGORY',\n",
    "                           'TAX CLASS AT PRESENT','BUILDING CLASS AT PRESENT',\n",
    "                            'ADDRESS','TAX CLASS AT TIME OF SALE',\n",
    "                            'BUILDING CLASS AT TIME OF SALE', 'SALE DATE',\n",
    "                            'SALE YEAR', 'SALE MONTH', 'SALE DAY'],\n",
    "                           axis=1, inplace = False)"
   ]
  },
  {
   "cell_type": "markdown",
   "metadata": {},
   "source": [
    "**Mengubah kolom BOROUGH menjadi index**"
   ]
  },
  {
   "cell_type": "code",
   "execution_count": 197,
   "metadata": {},
   "outputs": [
    {
     "data": {
      "text/html": [
       "<div>\n",
       "<style scoped>\n",
       "    .dataframe tbody tr th:only-of-type {\n",
       "        vertical-align: middle;\n",
       "    }\n",
       "\n",
       "    .dataframe tbody tr th {\n",
       "        vertical-align: top;\n",
       "    }\n",
       "\n",
       "    .dataframe thead th {\n",
       "        text-align: right;\n",
       "    }\n",
       "</style>\n",
       "<table border=\"1\" class=\"dataframe\">\n",
       "  <thead>\n",
       "    <tr style=\"text-align: right;\">\n",
       "      <th></th>\n",
       "      <th>SALE PRICE</th>\n",
       "    </tr>\n",
       "    <tr>\n",
       "      <th>BOROUGH</th>\n",
       "      <th></th>\n",
       "    </tr>\n",
       "  </thead>\n",
       "  <tbody>\n",
       "    <tr>\n",
       "      <th>Staten Island</th>\n",
       "      <td>437500.0</td>\n",
       "    </tr>\n",
       "    <tr>\n",
       "      <th>Staten Island</th>\n",
       "      <td>579000.0</td>\n",
       "    </tr>\n",
       "    <tr>\n",
       "      <th>Staten Island</th>\n",
       "      <td>370000.0</td>\n",
       "    </tr>\n",
       "    <tr>\n",
       "      <th>Staten Island</th>\n",
       "      <td>439000.0</td>\n",
       "    </tr>\n",
       "    <tr>\n",
       "      <th>Staten Island</th>\n",
       "      <td>300000.0</td>\n",
       "    </tr>\n",
       "  </tbody>\n",
       "</table>\n",
       "</div>"
      ],
      "text/plain": [
       "               SALE PRICE\n",
       "BOROUGH                  \n",
       "Staten Island    437500.0\n",
       "Staten Island    579000.0\n",
       "Staten Island    370000.0\n",
       "Staten Island    439000.0\n",
       "Staten Island    300000.0"
      ]
     },
     "execution_count": 197,
     "metadata": {},
     "output_type": "execute_result"
    }
   ],
   "source": [
    "df_pd_stateis = df_state.set_index(['BOROUGH'])\n",
    "df_pd_stateis.head()"
   ]
  },
  {
   "cell_type": "markdown",
   "metadata": {},
   "source": [
    "**Membuat histogram probability distribution**"
   ]
  },
  {
   "cell_type": "code",
   "execution_count": 198,
   "metadata": {},
   "outputs": [
    {
     "data": {
      "text/plain": [
       "Text(0.5, 1.0, 'Probability Distribution of SALE PRICE in Staten Island Borough')"
      ]
     },
     "execution_count": 198,
     "metadata": {},
     "output_type": "execute_result"
    },
    {
     "data": {
      "image/png": "[encoded data removed]",
      "text/plain": [
       "<Figure size 648x360 with 1 Axes>"
      ]
     },
     "metadata": {},
     "output_type": "display_data"
    }
   ],
   "source": [
    "sns.set(rc={'figure.figsize':(9,5)})\n",
    "sns.histplot(df_pd_stateis, kde=True)\n",
    "plt.xlabel('Sale Price', labelpad=14)\n",
    "plt.ylabel('Frequency', labelpad=14)\n",
    "plt.title('Probability Distribution of SALE PRICE in Staten Island Borough', fontsize=13)"
   ]
  },
  {
   "cell_type": "markdown",
   "metadata": {},
   "source": [
    "**Melihat skewness dari SALE PRICE di wilayah Staten Island**"
   ]
  },
  {
   "cell_type": "code",
   "execution_count": 199,
   "metadata": {},
   "outputs": [
    {
     "data": {
      "text/plain": [
       "SALE PRICE    0.07891\n",
       "dtype: float64"
      ]
     },
     "execution_count": 199,
     "metadata": {},
     "output_type": "execute_result"
    }
   ],
   "source": [
    "df_pd_stateis.skew()"
   ]
  },
  {
   "cell_type": "markdown",
   "metadata": {},
   "source": [
    "#### **Answer Question 2**"
   ]
  },
  {
   "cell_type": "markdown",
   "metadata": {},
   "source": [
    "**Membuat dataframe baru berdasarkan daerah MASPETH**"
   ]
  },
  {
   "cell_type": "code",
   "execution_count": 200,
   "metadata": {},
   "outputs": [],
   "source": [
    "df_pd_mp = df_nycsales[df_nycsales['NEIGHBORHOOD'] == 'MASPETH']"
   ]
  },
  {
   "cell_type": "markdown",
   "metadata": {},
   "source": [
    "**Menghapus beberapa kolom karena hanya membutuhkan kolom NEIGHBORHOOD dan SALE PRICE**"
   ]
  },
  {
   "cell_type": "code",
   "execution_count": 201,
   "metadata": {},
   "outputs": [],
   "source": [
    "df_mp = df_pd_mp.drop(['YEAR BUILT', 'TOTAL UNITS', 'BOROUGH', 'LOT', 'BLOCK','ZIP CODE',\n",
    "                            'RESIDENTIAL UNITS','COMMERCIAL UNITS',\n",
    "                            'LAND SQUARE FEET','GROSS SQUARE FEET','BUILDING CLASS CATEGORY',\n",
    "                           'TAX CLASS AT PRESENT','BUILDING CLASS AT PRESENT',\n",
    "                            'ADDRESS','TAX CLASS AT TIME OF SALE',\n",
    "                            'BUILDING CLASS AT TIME OF SALE', 'SALE DATE',\n",
    "                            'SALE YEAR', 'SALE MONTH', 'SALE DAY'],\n",
    "                           axis=1, inplace = False)"
   ]
  },
  {
   "cell_type": "markdown",
   "metadata": {},
   "source": [
    "**Mengubah kolom NEIGHBORHOOD menjadi index**"
   ]
  },
  {
   "cell_type": "code",
   "execution_count": 202,
   "metadata": {},
   "outputs": [
    {
     "data": {
      "text/html": [
       "<div>\n",
       "<style scoped>\n",
       "    .dataframe tbody tr th:only-of-type {\n",
       "        vertical-align: middle;\n",
       "    }\n",
       "\n",
       "    .dataframe tbody tr th {\n",
       "        vertical-align: top;\n",
       "    }\n",
       "\n",
       "    .dataframe thead th {\n",
       "        text-align: right;\n",
       "    }\n",
       "</style>\n",
       "<table border=\"1\" class=\"dataframe\">\n",
       "  <thead>\n",
       "    <tr style=\"text-align: right;\">\n",
       "      <th></th>\n",
       "      <th>SALE PRICE</th>\n",
       "    </tr>\n",
       "    <tr>\n",
       "      <th>NEIGHBORHOOD</th>\n",
       "      <th></th>\n",
       "    </tr>\n",
       "  </thead>\n",
       "  <tbody>\n",
       "    <tr>\n",
       "      <th>MASPETH</th>\n",
       "      <td>745000.0</td>\n",
       "    </tr>\n",
       "    <tr>\n",
       "      <th>MASPETH</th>\n",
       "      <td>898000.0</td>\n",
       "    </tr>\n",
       "    <tr>\n",
       "      <th>MASPETH</th>\n",
       "      <td>650000.0</td>\n",
       "    </tr>\n",
       "    <tr>\n",
       "      <th>MASPETH</th>\n",
       "      <td>665000.0</td>\n",
       "    </tr>\n",
       "    <tr>\n",
       "      <th>MASPETH</th>\n",
       "      <td>700000.0</td>\n",
       "    </tr>\n",
       "  </tbody>\n",
       "</table>\n",
       "</div>"
      ],
      "text/plain": [
       "              SALE PRICE\n",
       "NEIGHBORHOOD            \n",
       "MASPETH         745000.0\n",
       "MASPETH         898000.0\n",
       "MASPETH         650000.0\n",
       "MASPETH         665000.0\n",
       "MASPETH         700000.0"
      ]
     },
     "execution_count": 202,
     "metadata": {},
     "output_type": "execute_result"
    }
   ],
   "source": [
    "df_pd_maspeth = df_mp.set_index(['NEIGHBORHOOD'])\n",
    "df_pd_maspeth.head()"
   ]
  },
  {
   "cell_type": "markdown",
   "metadata": {},
   "source": [
    "**Membuat histogram probability distribution**"
   ]
  },
  {
   "cell_type": "code",
   "execution_count": 203,
   "metadata": {},
   "outputs": [
    {
     "data": {
      "text/plain": [
       "Text(0.5, 1, 'Probability Distribution of SALE PRICE in Maspeth Neighborhood')"
      ]
     },
     "execution_count": 203,
     "metadata": {},
     "output_type": "execute_result"
    },
    {
     "data": {
      "image/png": "[encoded data removed]",
      "text/plain": [
       "<Figure size 648x360 with 1 Axes>"
      ]
     },
     "metadata": {},
     "output_type": "display_data"
    }
   ],
   "source": [
    "sns.set(rc={'figure.figsize':(9,5)})\n",
    "sns.histplot(df_pd_maspeth, kde=True)\n",
    "plt.xlabel('Sale Price', labelpad=14)\n",
    "plt.ylabel('Frequency', labelpad=14)\n",
    "plt.title('Probability Distribution of SALE PRICE in Maspeth Neighborhood', y=1, fontsize=13)"
   ]
  },
  {
   "cell_type": "markdown",
   "metadata": {},
   "source": [
    "**Melihat skewness dari SALE PRICE di daerah MASPETH**"
   ]
  },
  {
   "cell_type": "code",
   "execution_count": 204,
   "metadata": {},
   "outputs": [
    {
     "data": {
      "text/plain": [
       "SALE PRICE    0.072095\n",
       "dtype: float64"
      ]
     },
     "execution_count": 204,
     "metadata": {},
     "output_type": "execute_result"
    }
   ],
   "source": [
    "df_pd_maspeth.skew()"
   ]
  },
  {
   "cell_type": "markdown",
   "metadata": {},
   "source": [
    "### Kesimpulan/Analisis Jawaban:\n",
    "Dari grafik pertama yang ditampilkan dan tidak adanya skewness maka dapat disimpulkan bahwa probability distribution harga penjualan (SALE PRICE) di wilayah Staten Island sudah berdistribusi normal. Dan dari grafik kedua yang ditampilkan dan tidak adanya skewness maka dapat disimpulkan bahwa probability distribution harga penjualan (SALE PRICE) di daerah Maspeth sudah berdistribusi normal."
   ]
  },
  {
   "cell_type": "markdown",
   "metadata": {},
   "source": [
    "## 5. Measured of Spread: Confidence Intervals\n",
    "Di bagian ini, saya akan mencari confidence intervals sesuai dengan pertanyaan yang ada di bagian Question. Confidence Intervals adalah rentang antara dua nilai dimana nilai suatu Sample Mean tepat berada di tengah-tengahnya. <br>\n",
    "#### **Question:**\n",
    "1. Berapa Confidence Interval untuk luas tanah properti (LAND SQUARE FEET) di daerah BAYSIDE?\n",
    "2. Berapa Confidence Interval untuk luas total semua lantai bangunan (GROSS SQUARE FEET) di daerah BAYSIDE?"
   ]
  },
  {
   "cell_type": "markdown",
   "metadata": {},
   "source": [
    "#### **Answer Question 1**"
   ]
  },
  {
   "cell_type": "markdown",
   "metadata": {},
   "source": [
    "**Membuat dataframe baru yang hanya terdapat kolom BAYSIDE NEIGHBORHOOD dan LAND SQUARE FEET**"
   ]
  },
  {
   "cell_type": "code",
   "execution_count": 205,
   "metadata": {},
   "outputs": [],
   "source": [
    "df_land = df_nycsales[df_nycsales['NEIGHBORHOOD']=='BAYSIDE']['LAND SQUARE FEET']"
   ]
  },
  {
   "cell_type": "markdown",
   "metadata": {},
   "source": [
    "**Mencari mean, std, dan jumlah item dari dataframe baru**"
   ]
  },
  {
   "cell_type": "code",
   "execution_count": 206,
   "metadata": {},
   "outputs": [],
   "source": [
    "mean1 = df_land.mean()\n",
    "std1 = df_land.std()\n",
    "n1 = len(df_nycsales[df_nycsales['NEIGHBORHOOD']=='BAYSIDE'])"
   ]
  },
  {
   "cell_type": "markdown",
   "metadata": {},
   "source": [
    "**Membuat variabel z untuk z score**"
   ]
  },
  {
   "cell_type": "code",
   "execution_count": 207,
   "metadata": {},
   "outputs": [],
   "source": [
    "z = 1.96 # z score untuk Confidence Level 95%"
   ]
  },
  {
   "cell_type": "markdown",
   "metadata": {},
   "source": [
    "**Mencari standard error**"
   ]
  },
  {
   "cell_type": "code",
   "execution_count": 208,
   "metadata": {},
   "outputs": [],
   "source": [
    "se1 = std1 / np.sqrt(n1)"
   ]
  },
  {
   "cell_type": "markdown",
   "metadata": {},
   "source": [
    "**Menghitung batas atas dan batas bawah**"
   ]
  },
  {
   "cell_type": "code",
   "execution_count": 209,
   "metadata": {},
   "outputs": [],
   "source": [
    "lower_bound1 = mean1 - z * se1\n",
    "upper_bound1 = mean1 + z * se1"
   ]
  },
  {
   "cell_type": "markdown",
   "metadata": {},
   "source": [
    "**Mencetak informasi nilai Confidence Interval dari LAND SQUARE FEET di BAYSIDE**"
   ]
  },
  {
   "cell_type": "code",
   "execution_count": 210,
   "metadata": {},
   "outputs": [
    {
     "name": "stdout",
     "output_type": "stream",
     "text": [
      "Confidence Interval luas tanah properti (LAND SQUARE FEET) di daerah BAYSIDE: [ 2898.8429408871393 , 3061.245226166225 ]\n"
     ]
    }
   ],
   "source": [
    "print('Confidence Interval luas tanah properti (LAND SQUARE FEET) di daerah BAYSIDE: [',lower_bound1,',',upper_bound1,']')"
   ]
  },
  {
   "cell_type": "markdown",
   "metadata": {},
   "source": [
    "#### **Answer Question 2**"
   ]
  },
  {
   "cell_type": "markdown",
   "metadata": {},
   "source": [
    "**Membuat dataframe baru yang hanya terdapat kolom BAYSIDE NEIGHBORHOOD dan GROSS SQUARE FEET**"
   ]
  },
  {
   "cell_type": "code",
   "execution_count": 211,
   "metadata": {},
   "outputs": [],
   "source": [
    "df_gros = df_nycsales[df_nycsales['NEIGHBORHOOD']=='BAYSIDE']['GROSS SQUARE FEET']"
   ]
  },
  {
   "cell_type": "markdown",
   "metadata": {},
   "source": [
    "**Mencari mean, std, dan jumlah item dari dataframe baru**"
   ]
  },
  {
   "cell_type": "code",
   "execution_count": 212,
   "metadata": {},
   "outputs": [],
   "source": [
    "mean2 = df_gros.mean()\n",
    "std2 = df_gros.std()\n",
    "n2 = len(df_nycsales[df_nycsales['NEIGHBORHOOD']=='BAYSIDE'])"
   ]
  },
  {
   "cell_type": "markdown",
   "metadata": {},
   "source": [
    "**Membuat variabel z untuk z score**"
   ]
  },
  {
   "cell_type": "code",
   "execution_count": 213,
   "metadata": {},
   "outputs": [],
   "source": [
    "z = 1.96 # z score untuk Confidence Level 95%"
   ]
  },
  {
   "cell_type": "markdown",
   "metadata": {},
   "source": [
    "**Mencari standard error**"
   ]
  },
  {
   "cell_type": "code",
   "execution_count": 214,
   "metadata": {},
   "outputs": [],
   "source": [
    "se2 = std2 / np.sqrt(n2)"
   ]
  },
  {
   "cell_type": "markdown",
   "metadata": {},
   "source": [
    "**Menghitung batas atas dan batas bawah**"
   ]
  },
  {
   "cell_type": "code",
   "execution_count": 215,
   "metadata": {},
   "outputs": [],
   "source": [
    "lower_bound2 = mean2 - z * se2\n",
    "upper_bound2 = mean2 + z * se2"
   ]
  },
  {
   "cell_type": "markdown",
   "metadata": {},
   "source": [
    "**Mencetak informasi nilai Confidence Interval dari GROSS SQUARE FEET di BAYSIDE**"
   ]
  },
  {
   "cell_type": "code",
   "execution_count": 216,
   "metadata": {},
   "outputs": [
    {
     "name": "stdout",
     "output_type": "stream",
     "text": [
      "Confidence Interval luas total semua lantai bangunan (GROSS SQUARE FEET) di daerah BAYSIDE: [ 1650.2795534194877 , 1763.613718042229 ]\n"
     ]
    }
   ],
   "source": [
    "print('Confidence Interval luas total semua lantai bangunan (GROSS SQUARE FEET) di daerah BAYSIDE: [',lower_bound2,',',upper_bound2,']')"
   ]
  },
  {
   "cell_type": "markdown",
   "metadata": {},
   "source": [
    "### Kesimpulan/Analisis Jawaban:\n",
    "Dari hasil analisis di atas didapatkan confidence interval luas tanah properti (LAND SQUARE FEET) di daerah BAYSIDE adalah 2898.8429408871393 - 3061.245226166225, berarti nilai suatu sample mean berada antara rentang tersebut. \n",
    "Dan confidence interval luas total semua lantai bangunan (GROSS SQUARE FEET) di daerah BAYSIDE adalah 1650.2795534194877 - 1763.613718042229, berarti nilai suatu sample mean berada antara rentang tersebut."
   ]
  },
  {
   "cell_type": "markdown",
   "metadata": {},
   "source": [
    "## 6. Measured of Spread: Hypothesis Testing\n",
    "Di bagian ini, saya akan menguji hipotesis dan menarik kesimpulan yang dihasilkan.<br>\n",
    "#### **Hypothesis**:\n",
    "**H0** : The Sale Prices of Properties in Brooklyn and Queens are equal <br>\n",
    "**H1** : The Sale Prices of Properties in Brooklyn and Queens are not equal"
   ]
  },
  {
   "cell_type": "markdown",
   "metadata": {},
   "source": [
    "#### **Answer**"
   ]
  },
  {
   "cell_type": "markdown",
   "metadata": {},
   "source": [
    "**Membuat dataframe yang hanya terdapat kolom BOROUGH dan SALE PRICE**"
   ]
  },
  {
   "cell_type": "code",
   "execution_count": 217,
   "metadata": {},
   "outputs": [],
   "source": [
    "df_price = df_nycsales[['BOROUGH','SALE PRICE']]"
   ]
  },
  {
   "cell_type": "markdown",
   "metadata": {},
   "source": [
    "**Membuat dataframe baru berdasarkan Brooklyn BOROUGH**"
   ]
  },
  {
   "cell_type": "code",
   "execution_count": 218,
   "metadata": {},
   "outputs": [],
   "source": [
    "df_brook = df_price[df_price['BOROUGH']=='Brooklyn'].drop('BOROUGH', axis=1)"
   ]
  },
  {
   "cell_type": "markdown",
   "metadata": {},
   "source": [
    "**Membuat dataframe baru berdasarkan Queens BOROUGH**"
   ]
  },
  {
   "cell_type": "code",
   "execution_count": 219,
   "metadata": {},
   "outputs": [],
   "source": [
    "df_queens = df_price[df_price['BOROUGH']=='Queens'].drop('BOROUGH', axis=1)"
   ]
  },
  {
   "cell_type": "markdown",
   "metadata": {},
   "source": [
    "**Mencari jumlah item, mean dan standard deviation dari wilayah Brooklyn**"
   ]
  },
  {
   "cell_type": "code",
   "execution_count": 220,
   "metadata": {},
   "outputs": [],
   "source": [
    "n_brook = len(df_brook)\n",
    "mean_brook = df_brook['SALE PRICE'].mean()\n",
    "std_brook = df_brook['SALE PRICE'].std()"
   ]
  },
  {
   "cell_type": "markdown",
   "metadata": {},
   "source": [
    "**Mencari jumlah item, mean dan standard deviation dari wilayah Queens**"
   ]
  },
  {
   "cell_type": "code",
   "execution_count": 221,
   "metadata": {},
   "outputs": [],
   "source": [
    "n_queens = len(df_queens)\n",
    "mean_queens = df_queens['SALE PRICE'].mean()\n",
    "std_queens = df_queens['SALE PRICE'].std()"
   ]
  },
  {
   "cell_type": "markdown",
   "metadata": {},
   "source": [
    "**Mencetak informasi jumlah item, nilai mean dan standard deviation dari wilayah Brooklyn dan Queens**"
   ]
  },
  {
   "cell_type": "code",
   "execution_count": 222,
   "metadata": {},
   "outputs": [
    {
     "name": "stdout",
     "output_type": "stream",
     "text": [
      "Wilayah Brooklyn: 10001 , 474105.62593740626 , 515168.48119807366\n",
      "Wilayah Queens: 10523 , 625807.1177420887 , 320874.4655168475\n"
     ]
    }
   ],
   "source": [
    "print('Wilayah Brooklyn:', n_brook,\",\",mean_brook,\",\",std_brook)\n",
    "print('Wilayah Queens:', n_queens,\",\",mean_queens,\",\",std_queens)"
   ]
  },
  {
   "cell_type": "markdown",
   "metadata": {},
   "source": [
    "**Mencari p-value**"
   ]
  },
  {
   "cell_type": "code",
   "execution_count": 223,
   "metadata": {},
   "outputs": [],
   "source": [
    "z_score, pvalue = sm.stats.ztest(df_brook['SALE PRICE'].dropna(),\n",
    "                                 df_queens['SALE PRICE'].dropna(),alternative='two-sided')"
   ]
  },
  {
   "cell_type": "markdown",
   "metadata": {},
   "source": [
    "**Penarikan kesimpulan**"
   ]
  },
  {
   "cell_type": "code",
   "execution_count": 224,
   "metadata": {},
   "outputs": [
    {
     "name": "stdout",
     "output_type": "stream",
     "text": [
      "The Sale Prices of Properties in Brooklyn and Queens are not equal\n"
     ]
    }
   ],
   "source": [
    "if pvalue > 0.05:\n",
    "    print('The Sale Prices of Properties in Brooklyn and Queens are equal')\n",
    "else:\n",
    "    print('The Sale Prices of Properties in Brooklyn and Queens are not equal')"
   ]
  },
  {
   "cell_type": "markdown",
   "metadata": {},
   "source": [
    "### Menampilkan plot dari distribusi data"
   ]
  },
  {
   "cell_type": "code",
   "execution_count": 225,
   "metadata": {},
   "outputs": [
    {
     "data": {
      "text/plain": [
       "Text(0, 0.5, 'FREQUENCY')"
      ]
     },
     "execution_count": 225,
     "metadata": {},
     "output_type": "execute_result"
    },
    {
     "data": {
      "image/png": "[encoded data removed]",
      "text/plain": [
       "<Figure size 1224x504 with 2 Axes>"
      ]
     },
     "metadata": {},
     "output_type": "display_data"
    }
   ],
   "source": [
    "# Menampilkan distribusi dari data penjualan di wilayah Brooklyn dan Queens\n",
    "fig = plt.figure(figsize=(17,7))\n",
    "ax = fig.add_subplot(1,2,1)\n",
    "ax0 = fig.add_subplot(1,2,2)\n",
    "\n",
    "# Membuat dan mengatur plot untuk harga jual (SALE PRICE) di wilayah Brooklyn\n",
    "sns.histplot(df_brook, kde=True, ax=ax0)\n",
    "ax0.set_title('HISTOGRAM SALE PRICES OF PROPERTIES IN BROOKLYN BOROUGH')\n",
    "ax0.set_xlabel('SALE PRICES OF PROPERTIES')\n",
    "ax0.tick_params(axis='x', labelrotation=90)\n",
    "ax0.set_ylabel('FREQUENCY')\n",
    "\n",
    "# Membuat dan mengatur plot untuk harga jual (SALE PRICE) di wilayah Queens\n",
    "sns.histplot(df_queens, kde=True, ax=ax)\n",
    "ax.set_title('HISTOGRAM SALE PRICES OF PROPERTIES IN QUEENS BOROUGH')\n",
    "ax.set_xlabel('SALE PRICES OF PROPERTIES')\n",
    "ax.tick_params(axis='x', labelrotation=90)\n",
    "ax.set_ylabel('FREQUENCY')"
   ]
  },
  {
   "cell_type": "markdown",
   "metadata": {},
   "source": [
    "### Kesimpulan/Analisis Jawaban:\n",
    "Berdasarkan hasil uji hipotesis menggunakan z-test dengan alternative two-sided, didapatkan bahwa H0 ditolak karena p-value < 0.05. Jadi dapat disimpulkan bahwa harga jual properti (SALE PRICES OF PROPERTIES) di wilayah Brooklyn dan Queens tidak sama."
   ]
  },
  {
   "cell_type": "markdown",
   "metadata": {},
   "source": [
    "# F. Overall Analysis\n",
    "***\n",
    "Pada bagian ini, saya akan merangkum hasil keseluruhan analisis yang telah saya lakukan. Berikut hasil keseluruhan analisis di atas:\n",
    "1. Rata-rata dari harga jual (SALE PRICE) di wilayah Brooklyn adalah 474105.62593740626. Lalu rata-rata dari luas total semua lantai bangunan (GROSS SQUARE FEET) di wilayah Brooklyn adalah 2096.006299370063. Dan rata-rata dari luas tanah properti (LAND SQUARE FEET) di wilayah Brooklyn adalah 2222.5992400759924.\n",
    "2. Median dari harga jual (SALE PRICE) di wilayah Brooklyn adalah 400000.0. Lalu median dari luas total semua lantai bangunan (GROSS SQUARE FEET) di wilayah Brooklyn adalah 2040.0. Dan median dari luas tanah properti (LAND SQUARE FEET) di wilayah Brooklyn adalah 2000.0.\n",
    "3. Modus dari tahun properti dibangun (YEAR BUILT) di wilayah Brooklyn adalah 1920 dengan kemunculan sebanyak 1354. Lalu modus dari luas total semua lantai bangunan (GROSS SQUARE FEET) di wilayah Brooklyn adalah 2400 dengan kemunculan sebanyak 145. Dan modus dari luas tanah properti (LAND SQUARE FEET) di wilayah Brooklyn adalah 2000 dengan kemunculan sebanyak 1846.\n",
    "4. Range/perbedaan antara harga jual (SALE PRICE) tertinggi dan terendah di wilayah Brooklyn adalah 2100000.0. Dan range/perbedaan antara luas total semua lantai bangunan (GROSS SQUARE FEET) tertinggi dan terendah di wilayah Brooklyn adalah 4048.0.\n",
    "5. Variance dari harga jual (SALE PRICE) di wilayah Brooklyn adalah 265398564019.92996. Lalu variance dari luas total semua lantai bangunan (GROSS SQUARE FEET) di wilayah Brooklyn adalah 536218.190660314. Dan variance dari luas tanah properti (LAND SQUARE FEET) di wilayah Brooklyn adalah 413281.1535754159.\n",
    "6. Standard deviation dari harga jual (SALE PRICE) di wilayah Brooklyn adalah 515168.48119807366. Lalu standard deviation dari luas total semua lantai bangunan (GROSS SQUARE FEET) di wilayah Brooklyn adalah 732.2692064127195. Dan standard deviation dari luas tanah properti (LAND SQUARE FEET) di wilayah Brooklyn adalah 642.8694685357331.\n",
    "7. Dari grafik pertama yang ditampilkan dan tidak adanya skewness maka dapat disimpulkan bahwa probability distribution harga penjualan (SALE PRICE) di wilayah Staten Island sudah berdistribusi normal. Dan dari grafik kedua yang ditampilkan dan tidak adanya skewness maka dapat disimpulkan bahwa probability distribution harga penjualan (SALE PRICE) di daerah Maspeth juga sudah berdistribusi normal.\n",
    "8. Confidence interval luas tanah properti (LAND SQUARE FEET) di daerah BAYSIDE adalah 2898.8429408871393 - 3061.245226166225, berarti nilai suatu sample mean berada antara rentang tersebut. Dan confidence interval luas total semua lantai bangunan (GROSS SQUARE FEET) di daerah BAYSIDE adalah 1650.2795534194877 - 1763.613718042229, berarti nilai suatu sample mean berada antara rentang tersebut.\n",
    "9. Berdasarkan hasil uji hipotesis menggunakan z-test dengan alternative two-sided, didapatkan bahwa H0 ditolak karena p-value < 0.05. Jadi dapat disimpulkan bahwa harga jual properti (SALE PRICES OF PROPERTIES) di wilayah Brooklyn dan Queens tidak sama."
   ]
  }
 ],
 "metadata": {
  "kernelspec": {
   "display_name": "Python 3.9.12 ('base')",
   "language": "python",
   "name": "python3"
  },
  "language_info": {
   "codemirror_mode": {
    "name": "ipython",
    "version": 3
   },
   "file_extension": ".py",
   "mimetype": "text/x-python",
   "name": "python",
   "nbconvert_exporter": "python",
   "pygments_lexer": "ipython3",
   "version": "3.9.12"
  },
  "orig_nbformat": 4,
  "vscode": {
   "interpreter": {
    "hash": "548ab95550280775e0e3d7de30ebd157c610a70d91e64db02d00f78c476de59e"
   }
  }
 },
 "nbformat": 4,
 "nbformat_minor": 2
}
